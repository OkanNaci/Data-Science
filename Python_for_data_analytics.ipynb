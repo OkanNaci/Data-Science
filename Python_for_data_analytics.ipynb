{
 "cells": [
  {
   "cell_type": "code",
   "execution_count": 1,
   "id": "7e65d144",
   "metadata": {},
   "outputs": [
    {
     "name": "stdout",
     "output_type": "stream",
     "text": [
      "Jupyter is working in VS Code!\n"
     ]
    }
   ],
   "source": [
    "print(\"Jupyter is working in VS Code!\")"
   ]
  },
  {
   "cell_type": "code",
   "execution_count": 2,
   "id": "f481f510",
   "metadata": {},
   "outputs": [
    {
     "name": "stdout",
     "output_type": "stream",
     "text": [
      "[0]\n",
      "[0, 1]\n",
      "[0, 1, 4]\n",
      "[0, 1, 4, 9]\n",
      "[0, 1, 4, 9, 16]\n"
     ]
    }
   ],
   "source": [
    "L=[]\n",
    "for n in range(5):\n",
    "        L.append(n**2)\n",
    "        print(L)"
   ]
  },
  {
   "cell_type": "code",
   "execution_count": 3,
   "id": "9d7f826c",
   "metadata": {},
   "outputs": [
    {
     "data": {
      "text/plain": [
       "11000.0"
      ]
     },
     "execution_count": 3,
     "metadata": {},
     "output_type": "execute_result"
    }
   ],
   "source": [
    "base_salary=10000\n",
    "bonus_rate=.10\n",
    "total_salary=base_salary*(1+bonus_rate)\n",
    "total_salary"
   ]
  },
  {
   "cell_type": "code",
   "execution_count": 4,
   "id": "4155f92c",
   "metadata": {},
   "outputs": [
    {
     "data": {
      "text/plain": [
       "float"
      ]
     },
     "execution_count": 4,
     "metadata": {},
     "output_type": "execute_result"
    }
   ],
   "source": [
    "type(total_salary)"
   ]
  },
  {
   "cell_type": "code",
   "execution_count": 5,
   "id": "254fb400",
   "metadata": {},
   "outputs": [
    {
     "data": {
      "text/plain": [
       "3031292541584"
      ]
     },
     "execution_count": 5,
     "metadata": {},
     "output_type": "execute_result"
    }
   ],
   "source": [
    "id(total_salary) \n",
    "#each variable in Python has a unique id"
   ]
  },
  {
   "cell_type": "code",
   "execution_count": 6,
   "id": "c51f12f4",
   "metadata": {},
   "outputs": [
    {
     "name": "stdout",
     "output_type": "stream",
     "text": [
      "Hello, my name is okan.\n",
      "I am 22 years old.\n"
     ]
    }
   ],
   "source": [
    "def introduce_yourself(name, age):\n",
    "    print(f\"Hello, my name is {name}.\\nI am {age} years old.\")\n",
    "introduce_yourself(\"okan\", 22)"
   ]
  },
  {
   "cell_type": "code",
   "execution_count": 7,
   "id": "f009d55c",
   "metadata": {},
   "outputs": [
    {
     "name": "stdout",
     "output_type": "stream",
     "text": [
      "Job Title: Data Scientist\n",
      "Location: New York\n",
      "Salary: $120000\n"
     ]
    },
    {
     "data": {
      "text/plain": [
       "'Data Scientist'"
      ]
     },
     "execution_count": 7,
     "metadata": {},
     "output_type": "execute_result"
    }
   ],
   "source": [
    "job_title = \"Data Scientist\"\n",
    "job_location = \"New York\"\n",
    "job_salary = 120000\n",
    "class Job:\n",
    "    def __init__(self, title, location, salary):\n",
    "        self.title = title\n",
    "        self.location = location\n",
    "        self.salary = salary\n",
    "        return print(f\"Job Title: {self.title}\\nLocation: {self.location}\\nSalary: ${self.salary}\")\n",
    "job_1=Job(job_title, job_location, job_salary)\n",
    "job_1.title"
   ]
  },
  {
   "cell_type": "code",
   "execution_count": 8,
   "id": "6994d371",
   "metadata": {},
   "outputs": [
    {
     "name": "stdout",
     "output_type": "stream",
     "text": [
      "Help on class str in module builtins:\n",
      "\n",
      "class str(object)\n",
      " |  str(object='') -> str\n",
      " |  str(bytes_or_buffer[, encoding[, errors]]) -> str\n",
      " |\n",
      " |  Create a new string object from the given object. If encoding or\n",
      " |  errors is specified, then the object must expose a data buffer\n",
      " |  that will be decoded using the given encoding and error handler.\n",
      " |  Otherwise, returns the result of object.__str__() (if defined)\n",
      " |  or repr(object).\n",
      " |  encoding defaults to 'utf-8'.\n",
      " |  errors defaults to 'strict'.\n",
      " |\n",
      " |  Methods defined here:\n",
      " |\n",
      " |  __add__(self, value, /)\n",
      " |      Return self+value.\n",
      " |\n",
      " |  __contains__(self, key, /)\n",
      " |      Return bool(key in self).\n",
      " |\n",
      " |  __eq__(self, value, /)\n",
      " |      Return self==value.\n",
      " |\n",
      " |  __format__(self, format_spec, /)\n",
      " |      Return a formatted version of the string as described by format_spec.\n",
      " |\n",
      " |  __ge__(self, value, /)\n",
      " |      Return self>=value.\n",
      " |\n",
      " |  __getitem__(self, key, /)\n",
      " |      Return self[key].\n",
      " |\n",
      " |  __getnewargs__(self, /)\n",
      " |\n",
      " |  __gt__(self, value, /)\n",
      " |      Return self>value.\n",
      " |\n",
      " |  __hash__(self, /)\n",
      " |      Return hash(self).\n",
      " |\n",
      " |  __iter__(self, /)\n",
      " |      Implement iter(self).\n",
      " |\n",
      " |  __le__(self, value, /)\n",
      " |      Return self<=value.\n",
      " |\n",
      " |  __len__(self, /)\n",
      " |      Return len(self).\n",
      " |\n",
      " |  __lt__(self, value, /)\n",
      " |      Return self<value.\n",
      " |\n",
      " |  __mod__(self, value, /)\n",
      " |      Return self%value.\n",
      " |\n",
      " |  __mul__(self, value, /)\n",
      " |      Return self*value.\n",
      " |\n",
      " |  __ne__(self, value, /)\n",
      " |      Return self!=value.\n",
      " |\n",
      " |  __repr__(self, /)\n",
      " |      Return repr(self).\n",
      " |\n",
      " |  __rmod__(self, value, /)\n",
      " |      Return value%self.\n",
      " |\n",
      " |  __rmul__(self, value, /)\n",
      " |      Return value*self.\n",
      " |\n",
      " |  __sizeof__(self, /)\n",
      " |      Return the size of the string in memory, in bytes.\n",
      " |\n",
      " |  __str__(self, /)\n",
      " |      Return str(self).\n",
      " |\n",
      " |  capitalize(self, /)\n",
      " |      Return a capitalized version of the string.\n",
      " |\n",
      " |      More specifically, make the first character have upper case and the rest lower\n",
      " |      case.\n",
      " |\n",
      " |  casefold(self, /)\n",
      " |      Return a version of the string suitable for caseless comparisons.\n",
      " |\n",
      " |  center(self, width, fillchar=' ', /)\n",
      " |      Return a centered string of length width.\n",
      " |\n",
      " |      Padding is done using the specified fill character (default is a space).\n",
      " |\n",
      " |  count(self, sub[, start[, end]], /)\n",
      " |      Return the number of non-overlapping occurrences of substring sub in string S[start:end].\n",
      " |\n",
      " |      Optional arguments start and end are interpreted as in slice notation.\n",
      " |\n",
      " |  encode(self, /, encoding='utf-8', errors='strict')\n",
      " |      Encode the string using the codec registered for encoding.\n",
      " |\n",
      " |      encoding\n",
      " |        The encoding in which to encode the string.\n",
      " |      errors\n",
      " |        The error handling scheme to use for encoding errors.\n",
      " |        The default is 'strict' meaning that encoding errors raise a\n",
      " |        UnicodeEncodeError.  Other possible values are 'ignore', 'replace' and\n",
      " |        'xmlcharrefreplace' as well as any other name registered with\n",
      " |        codecs.register_error that can handle UnicodeEncodeErrors.\n",
      " |\n",
      " |  endswith(self, suffix[, start[, end]], /)\n",
      " |      Return True if the string ends with the specified suffix, False otherwise.\n",
      " |\n",
      " |      suffix\n",
      " |        A string or a tuple of strings to try.\n",
      " |      start\n",
      " |        Optional start position. Default: start of the string.\n",
      " |      end\n",
      " |        Optional stop position. Default: end of the string.\n",
      " |\n",
      " |  expandtabs(self, /, tabsize=8)\n",
      " |      Return a copy where all tab characters are expanded using spaces.\n",
      " |\n",
      " |      If tabsize is not given, a tab size of 8 characters is assumed.\n",
      " |\n",
      " |  find(self, sub[, start[, end]], /)\n",
      " |      Return the lowest index in S where substring sub is found, such that sub is contained within S[start:end].\n",
      " |\n",
      " |      Optional arguments start and end are interpreted as in slice notation.\n",
      " |      Return -1 on failure.\n",
      " |\n",
      " |  format(self, /, *args, **kwargs)\n",
      " |      Return a formatted version of the string, using substitutions from args and kwargs.\n",
      " |      The substitutions are identified by braces ('{' and '}').\n",
      " |\n",
      " |  format_map(self, mapping, /)\n",
      " |      Return a formatted version of the string, using substitutions from mapping.\n",
      " |      The substitutions are identified by braces ('{' and '}').\n",
      " |\n",
      " |  index(self, sub[, start[, end]], /)\n",
      " |      Return the lowest index in S where substring sub is found, such that sub is contained within S[start:end].\n",
      " |\n",
      " |      Optional arguments start and end are interpreted as in slice notation.\n",
      " |      Raises ValueError when the substring is not found.\n",
      " |\n",
      " |  isalnum(self, /)\n",
      " |      Return True if the string is an alpha-numeric string, False otherwise.\n",
      " |\n",
      " |      A string is alpha-numeric if all characters in the string are alpha-numeric and\n",
      " |      there is at least one character in the string.\n",
      " |\n",
      " |  isalpha(self, /)\n",
      " |      Return True if the string is an alphabetic string, False otherwise.\n",
      " |\n",
      " |      A string is alphabetic if all characters in the string are alphabetic and there\n",
      " |      is at least one character in the string.\n",
      " |\n",
      " |  isascii(self, /)\n",
      " |      Return True if all characters in the string are ASCII, False otherwise.\n",
      " |\n",
      " |      ASCII characters have code points in the range U+0000-U+007F.\n",
      " |      Empty string is ASCII too.\n",
      " |\n",
      " |  isdecimal(self, /)\n",
      " |      Return True if the string is a decimal string, False otherwise.\n",
      " |\n",
      " |      A string is a decimal string if all characters in the string are decimal and\n",
      " |      there is at least one character in the string.\n",
      " |\n",
      " |  isdigit(self, /)\n",
      " |      Return True if the string is a digit string, False otherwise.\n",
      " |\n",
      " |      A string is a digit string if all characters in the string are digits and there\n",
      " |      is at least one character in the string.\n",
      " |\n",
      " |  isidentifier(self, /)\n",
      " |      Return True if the string is a valid Python identifier, False otherwise.\n",
      " |\n",
      " |      Call keyword.iskeyword(s) to test whether string s is a reserved identifier,\n",
      " |      such as \"def\" or \"class\".\n",
      " |\n",
      " |  islower(self, /)\n",
      " |      Return True if the string is a lowercase string, False otherwise.\n",
      " |\n",
      " |      A string is lowercase if all cased characters in the string are lowercase and\n",
      " |      there is at least one cased character in the string.\n",
      " |\n",
      " |  isnumeric(self, /)\n",
      " |      Return True if the string is a numeric string, False otherwise.\n",
      " |\n",
      " |      A string is numeric if all characters in the string are numeric and there is at\n",
      " |      least one character in the string.\n",
      " |\n",
      " |  isprintable(self, /)\n",
      " |      Return True if all characters in the string are printable, False otherwise.\n",
      " |\n",
      " |      A character is printable if repr() may use it in its output.\n",
      " |\n",
      " |  isspace(self, /)\n",
      " |      Return True if the string is a whitespace string, False otherwise.\n",
      " |\n",
      " |      A string is whitespace if all characters in the string are whitespace and there\n",
      " |      is at least one character in the string.\n",
      " |\n",
      " |  istitle(self, /)\n",
      " |      Return True if the string is a title-cased string, False otherwise.\n",
      " |\n",
      " |      In a title-cased string, upper- and title-case characters may only\n",
      " |      follow uncased characters and lowercase characters only cased ones.\n",
      " |\n",
      " |  isupper(self, /)\n",
      " |      Return True if the string is an uppercase string, False otherwise.\n",
      " |\n",
      " |      A string is uppercase if all cased characters in the string are uppercase and\n",
      " |      there is at least one cased character in the string.\n",
      " |\n",
      " |  join(self, iterable, /)\n",
      " |      Concatenate any number of strings.\n",
      " |\n",
      " |      The string whose method is called is inserted in between each given string.\n",
      " |      The result is returned as a new string.\n",
      " |\n",
      " |      Example: '.'.join(['ab', 'pq', 'rs']) -> 'ab.pq.rs'\n",
      " |\n",
      " |  ljust(self, width, fillchar=' ', /)\n",
      " |      Return a left-justified string of length width.\n",
      " |\n",
      " |      Padding is done using the specified fill character (default is a space).\n",
      " |\n",
      " |  lower(self, /)\n",
      " |      Return a copy of the string converted to lowercase.\n",
      " |\n",
      " |  lstrip(self, chars=None, /)\n",
      " |      Return a copy of the string with leading whitespace removed.\n",
      " |\n",
      " |      If chars is given and not None, remove characters in chars instead.\n",
      " |\n",
      " |  partition(self, sep, /)\n",
      " |      Partition the string into three parts using the given separator.\n",
      " |\n",
      " |      This will search for the separator in the string.  If the separator is found,\n",
      " |      returns a 3-tuple containing the part before the separator, the separator\n",
      " |      itself, and the part after it.\n",
      " |\n",
      " |      If the separator is not found, returns a 3-tuple containing the original string\n",
      " |      and two empty strings.\n",
      " |\n",
      " |  removeprefix(self, prefix, /)\n",
      " |      Return a str with the given prefix string removed if present.\n",
      " |\n",
      " |      If the string starts with the prefix string, return string[len(prefix):].\n",
      " |      Otherwise, return a copy of the original string.\n",
      " |\n",
      " |  removesuffix(self, suffix, /)\n",
      " |      Return a str with the given suffix string removed if present.\n",
      " |\n",
      " |      If the string ends with the suffix string and that suffix is not empty,\n",
      " |      return string[:-len(suffix)]. Otherwise, return a copy of the original\n",
      " |      string.\n",
      " |\n",
      " |  replace(self, old, new, /, count=-1)\n",
      " |      Return a copy with all occurrences of substring old replaced by new.\n",
      " |\n",
      " |        count\n",
      " |          Maximum number of occurrences to replace.\n",
      " |          -1 (the default value) means replace all occurrences.\n",
      " |\n",
      " |      If the optional argument count is given, only the first count occurrences are\n",
      " |      replaced.\n",
      " |\n",
      " |  rfind(self, sub[, start[, end]], /)\n",
      " |      Return the highest index in S where substring sub is found, such that sub is contained within S[start:end].\n",
      " |\n",
      " |      Optional arguments start and end are interpreted as in slice notation.\n",
      " |      Return -1 on failure.\n",
      " |\n",
      " |  rindex(self, sub[, start[, end]], /)\n",
      " |      Return the highest index in S where substring sub is found, such that sub is contained within S[start:end].\n",
      " |\n",
      " |      Optional arguments start and end are interpreted as in slice notation.\n",
      " |      Raises ValueError when the substring is not found.\n",
      " |\n",
      " |  rjust(self, width, fillchar=' ', /)\n",
      " |      Return a right-justified string of length width.\n",
      " |\n",
      " |      Padding is done using the specified fill character (default is a space).\n",
      " |\n",
      " |  rpartition(self, sep, /)\n",
      " |      Partition the string into three parts using the given separator.\n",
      " |\n",
      " |      This will search for the separator in the string, starting at the end. If\n",
      " |      the separator is found, returns a 3-tuple containing the part before the\n",
      " |      separator, the separator itself, and the part after it.\n",
      " |\n",
      " |      If the separator is not found, returns a 3-tuple containing two empty strings\n",
      " |      and the original string.\n",
      " |\n",
      " |  rsplit(self, /, sep=None, maxsplit=-1)\n",
      " |      Return a list of the substrings in the string, using sep as the separator string.\n",
      " |\n",
      " |        sep\n",
      " |          The separator used to split the string.\n",
      " |\n",
      " |          When set to None (the default value), will split on any whitespace\n",
      " |          character (including \\n \\r \\t \\f and spaces) and will discard\n",
      " |          empty strings from the result.\n",
      " |        maxsplit\n",
      " |          Maximum number of splits.\n",
      " |          -1 (the default value) means no limit.\n",
      " |\n",
      " |      Splitting starts at the end of the string and works to the front.\n",
      " |\n",
      " |  rstrip(self, chars=None, /)\n",
      " |      Return a copy of the string with trailing whitespace removed.\n",
      " |\n",
      " |      If chars is given and not None, remove characters in chars instead.\n",
      " |\n",
      " |  split(self, /, sep=None, maxsplit=-1)\n",
      " |      Return a list of the substrings in the string, using sep as the separator string.\n",
      " |\n",
      " |        sep\n",
      " |          The separator used to split the string.\n",
      " |\n",
      " |          When set to None (the default value), will split on any whitespace\n",
      " |          character (including \\n \\r \\t \\f and spaces) and will discard\n",
      " |          empty strings from the result.\n",
      " |        maxsplit\n",
      " |          Maximum number of splits.\n",
      " |          -1 (the default value) means no limit.\n",
      " |\n",
      " |      Splitting starts at the front of the string and works to the end.\n",
      " |\n",
      " |      Note, str.split() is mainly useful for data that has been intentionally\n",
      " |      delimited.  With natural text that includes punctuation, consider using\n",
      " |      the regular expression module.\n",
      " |\n",
      " |  splitlines(self, /, keepends=False)\n",
      " |      Return a list of the lines in the string, breaking at line boundaries.\n",
      " |\n",
      " |      Line breaks are not included in the resulting list unless keepends is given and\n",
      " |      true.\n",
      " |\n",
      " |  startswith(self, prefix[, start[, end]], /)\n",
      " |      Return True if the string starts with the specified prefix, False otherwise.\n",
      " |\n",
      " |      prefix\n",
      " |        A string or a tuple of strings to try.\n",
      " |      start\n",
      " |        Optional start position. Default: start of the string.\n",
      " |      end\n",
      " |        Optional stop position. Default: end of the string.\n",
      " |\n",
      " |  strip(self, chars=None, /)\n",
      " |      Return a copy of the string with leading and trailing whitespace removed.\n",
      " |\n",
      " |      If chars is given and not None, remove characters in chars instead.\n",
      " |\n",
      " |  swapcase(self, /)\n",
      " |      Convert uppercase characters to lowercase and lowercase characters to uppercase.\n",
      " |\n",
      " |  title(self, /)\n",
      " |      Return a version of the string where each word is titlecased.\n",
      " |\n",
      " |      More specifically, words start with uppercased characters and all remaining\n",
      " |      cased characters have lower case.\n",
      " |\n",
      " |  translate(self, table, /)\n",
      " |      Replace each character in the string using the given translation table.\n",
      " |\n",
      " |        table\n",
      " |          Translation table, which must be a mapping of Unicode ordinals to\n",
      " |          Unicode ordinals, strings, or None.\n",
      " |\n",
      " |      The table must implement lookup/indexing via __getitem__, for instance a\n",
      " |      dictionary or list.  If this operation raises LookupError, the character is\n",
      " |      left untouched.  Characters mapped to None are deleted.\n",
      " |\n",
      " |  upper(self, /)\n",
      " |      Return a copy of the string converted to uppercase.\n",
      " |\n",
      " |  zfill(self, width, /)\n",
      " |      Pad a numeric string with zeros on the left, to fill a field of the given width.\n",
      " |\n",
      " |      The string is never truncated.\n",
      " |\n",
      " |  ----------------------------------------------------------------------\n",
      " |  Static methods defined here:\n",
      " |\n",
      " |  __new__(*args, **kwargs)\n",
      " |      Create and return a new object.  See help(type) for accurate signature.\n",
      " |\n",
      " |  maketrans(x, y=<unrepresentable>, z=<unrepresentable>, /)\n",
      " |      Return a translation table usable for str.translate().\n",
      " |\n",
      " |      If there is only one argument, it must be a dictionary mapping Unicode\n",
      " |      ordinals (integers) or characters to Unicode ordinals, strings or None.\n",
      " |      Character keys will be then converted to ordinals.\n",
      " |      If there are two arguments, they must be strings of equal length, and\n",
      " |      in the resulting dictionary, each character in x will be mapped to the\n",
      " |      character at the same position in y. If there is a third argument, it\n",
      " |      must be a string, whose characters will be mapped to None in the result.\n",
      "\n"
     ]
    }
   ],
   "source": [
    "help(str)"
   ]
  },
  {
   "cell_type": "code",
   "execution_count": 9,
   "id": "dd296074",
   "metadata": {},
   "outputs": [
    {
     "data": {
      "text/plain": [
       "101.0"
      ]
     },
     "execution_count": 9,
     "metadata": {},
     "output_type": "execute_result"
    }
   ],
   "source": [
    "# type casting \n",
    "job_id = 101\n",
    "float(job_id)\n"
   ]
  },
  {
   "cell_type": "code",
   "execution_count": 10,
   "id": "754d374c",
   "metadata": {},
   "outputs": [
    {
     "name": "stdout",
     "output_type": "stream",
     "text": [
      "FRESH\n",
      "fresh\n",
      "fresh mind\n",
      "cresh\n",
      "fresh\n",
      "['fr', 'sh']\n"
     ]
    }
   ],
   "source": [
    "feel='fresh'\n",
    "print(feel.upper())\n",
    "print(feel.lower())\n",
    "print(feel.__add__(' mind'))\n",
    "print(feel.replace('f', 'c'))\n",
    "print(feel) # original string is not changed\n",
    "print(feel.split(sep='e'))\n"
   ]
  },
  {
   "cell_type": "code",
   "execution_count": 11,
   "id": "32cf8d38",
   "metadata": {},
   "outputs": [
    {
     "data": {
      "text/plain": [
       "'0,1,2,3,4,5,6,7,8,9'"
      ]
     },
     "execution_count": 11,
     "metadata": {},
     "output_type": "execute_result"
    }
   ],
   "source": [
    "baby_age='0123456789'\n",
    "','.join(baby_age)"
   ]
  },
  {
   "cell_type": "code",
   "execution_count": 12,
   "id": "b100961e",
   "metadata": {},
   "outputs": [
    {
     "name": "stdout",
     "output_type": "stream",
     "text": [
      "2\n",
      "7\n",
      "False\n",
      "c is greater than 5\n"
     ]
    }
   ],
   "source": [
    "print(5//2)\n",
    "c=5\n",
    "c += 2\n",
    "print(c)   \n",
    "print(1 == 2 )\n",
    "if c > 5:\n",
    "    print(\"c is greater than 5\")\n",
    "elif c == 5:\n",
    "    print(\"c is equal to 5\")\n",
    "else:\n",
    "    print(\"c is less than 5\")\n"
   ]
  },
  {
   "cell_type": "code",
   "execution_count": 13,
   "id": "39637d24",
   "metadata": {},
   "outputs": [
    {
     "name": "stdout",
     "output_type": "stream",
     "text": [
      "['english', 'trader', 'developer']\n",
      "['english', 'trader', 'developer', 'data scientist']\n",
      "trader\n",
      "['english', 'trader', 'data scientist']\n"
     ]
    },
    {
     "data": {
      "text/plain": [
       "['english', 'trader', 'data scientist', 'developer']"
      ]
     },
     "execution_count": 13,
     "metadata": {},
     "output_type": "execute_result"
    }
   ],
   "source": [
    "skills=['english','trader','developer']\n",
    "print(skills)\n",
    "skills.append('data scientist')\n",
    "print(skills)\n",
    "print(skills[1])\n",
    "skills.pop(2)\n",
    "print(skills)\n",
    "skills.insert(3, 'developer')\n",
    "skills\n",
    "skills[0:1]  #slicing\n",
    "skills"
   ]
  },
  {
   "cell_type": "code",
   "execution_count": 14,
   "id": "06d7270d",
   "metadata": {},
   "outputs": [
    {
     "name": "stdout",
     "output_type": "stream",
     "text": [
      "english\n",
      "{'language': 'english', 'skill': 'DataScientist'}\n"
     ]
    }
   ],
   "source": [
    "info={'language':'english', 'skill':'SoftwareDeveloper'}\n",
    "info\n",
    "print(info['language'])\n",
    "info.update({'skill':'DataScientist'})\n",
    "print(info)"
   ]
  },
  {
   "cell_type": "code",
   "execution_count": 15,
   "id": "c4331492",
   "metadata": {},
   "outputs": [
    {
     "name": "stdout",
     "output_type": "stream",
     "text": [
      "{'cooker', 'developer', 'data scientist', 'data analyst'}\n",
      "{'cooker', 'data engineer', 'data analyst', 'data scientist', 'developer'}\n",
      "{'cooker', 'data engineer', 'data analyst', 'data scientist'}\n"
     ]
    }
   ],
   "source": [
    "set={'cooker','developer','data scientist','data analyst'}\n",
    "print(set)\n",
    "set.add('data engineer')\n",
    "print(set)\n",
    "set.remove('developer')\n",
    "print(set)"
   ]
  },
  {
   "cell_type": "code",
   "execution_count": 16,
   "id": "a0356aab",
   "metadata": {},
   "outputs": [
    {
     "name": "stdout",
     "output_type": "stream",
     "text": [
      "('okan', 'naci')\n"
     ]
    }
   ],
   "source": [
    "# Tuples are immutable\n",
    "introduce_yourself=('okan','naci')\n",
    "print(introduce_yourself)\n",
    " "
   ]
  },
  {
   "cell_type": "code",
   "execution_count": 17,
   "id": "8f2a5bea",
   "metadata": {},
   "outputs": [
    {
     "data": {
      "text/plain": [
       "(2, 3, 4)"
      ]
     },
     "execution_count": 17,
     "metadata": {},
     "output_type": "execute_result"
    }
   ],
   "source": [
    "tuple(range(2,5))"
   ]
  },
  {
   "cell_type": "code",
   "execution_count": 18,
   "id": "cd4e6e16",
   "metadata": {},
   "outputs": [
    {
     "name": "stdout",
     "output_type": "stream",
     "text": [
      "1\n",
      "1\n",
      "0\n",
      "False\n"
     ]
    }
   ],
   "source": [
    "print(1 and 1)\n",
    "print(1 or 0)\n",
    "print(1 and 0)\n",
    "print(not 1)"
   ]
  },
  {
   "cell_type": "code",
   "execution_count": 19,
   "id": "83540851",
   "metadata": {},
   "outputs": [
    {
     "name": "stdout",
     "output_type": "stream",
     "text": [
      "0\n",
      "1\n",
      "2\n",
      "3\n",
      "4\n",
      "5\n",
      "6\n",
      "{'alice': 25, 'bob': 30, 'charlie': 35}\n",
      "alice is 25 years old\n",
      "bob is 30 years old\n",
      "charlie is 35 years old\n"
     ]
    }
   ],
   "source": [
    "nums=[0,1,2,3,4,5,6]\n",
    "for i in nums:\n",
    "    print(i)\n",
    "dataAge={\n",
    "    'alice': 25,\n",
    "    'bob': 30,\n",
    "    'charlie': 35\n",
    "}\n",
    "print(dataAge)\n",
    "\n",
    "for name, age in dataAge.items():\n",
    "    print(f\"{name} is {age} years old\")"
   ]
  },
  {
   "cell_type": "code",
   "execution_count": 20,
   "id": "0c792218",
   "metadata": {},
   "outputs": [
    {
     "name": "stdout",
     "output_type": "stream",
     "text": [
      "[4, 9, 16, 25, 16, 36]\n"
     ]
    }
   ],
   "source": [
    "#list comprehension\n",
    "ages=[2,3,4,5,4,6]\n",
    "squared = [x**2 for x in ages ]\n",
    "print(squared)\n"
   ]
  },
  {
   "cell_type": "code",
   "execution_count": 21,
   "id": "df569a80",
   "metadata": {},
   "outputs": [
    {
     "name": "stdout",
     "output_type": "stream",
     "text": [
      "Data Analyst\n",
      "['Python', 'SQL', 'Excel']\n",
      "Data Scientist\n",
      "['Python', 'R', 'Machine Learning', 'Deep Learning']\n",
      "Machine Learning Engineer\n",
      "['Python', 'TensorFlow', 'PyTorch', 'Scikit-Learn']\n",
      "Data Engineer\n",
      "['Python', 'Apache Spark', 'Hadoop', 'SQL']\n",
      "Business Intelligence Analyst\n",
      "['Python', 'SQL', 'Tableau', 'Power BI', 'Excel']\n",
      "Quantitative Analyst\n",
      "['R', 'Python', 'MATLAB', 'Statistics']\n",
      "Operations Analyst\n",
      "['Python', 'SQL', 'Data Visualization', 'Process Improvement']\n",
      "Database Administrator\n",
      "['SQL', 'Oracle', 'MySQL', 'Database Management']\n",
      "AI Engineer\n",
      "['Python', 'TensorFlow', 'PyTorch', 'Computer Vision']\n",
      "Statistician\n",
      "['R', 'SAS', 'Python', 'Statistical Modeling']\n"
     ]
    }
   ],
   "source": [
    "job_roles = [\n",
    "    {'role': 'Data Analyst', 'skills': ['Python', 'SQL', 'Excel']},\n",
    "    {'role': 'Data Scientist', 'skills': ['Python', 'R', 'Machine Learning', 'Deep Learning']},\n",
    "    {'role': 'Machine Learning Engineer', 'skills': ['Python', 'TensorFlow', 'PyTorch', 'Scikit-Learn']},\n",
    "    {'role': 'Data Engineer', 'skills': ['Python', 'Apache Spark', 'Hadoop', 'SQL']},\n",
    "    {'role': 'Business Intelligence Analyst', 'skills': ['Python', 'SQL', 'Tableau', 'Power BI', 'Excel']},\n",
    "    {'role': 'Quantitative Analyst', 'skills': ['R', 'Python', 'MATLAB', 'Statistics']},\n",
    "    {'role': 'Operations Analyst', 'skills': ['Python', 'SQL', 'Data Visualization', 'Process Improvement']},\n",
    "    {'role': 'Database Administrator', 'skills': ['SQL', 'Oracle', 'MySQL', 'Database Management']},\n",
    "    {'role': 'AI Engineer', 'skills': ['Python', 'TensorFlow', 'PyTorch', 'Computer Vision']},\n",
    "    {'role': 'Statistician', 'skills': ['R', 'SAS', 'Python', 'Statistical Modeling']}\n",
    "]\n",
    "for job in job_roles:  \n",
    "    print(job['role']) \n",
    "    print(job['skills'])\n",
    "\n"
   ]
  },
  {
   "cell_type": "code",
   "execution_count": 22,
   "id": "73776dc4",
   "metadata": {},
   "outputs": [
    {
     "data": {
      "text/plain": [
       "'Your BMI is 22.86 (Normal weight).'"
      ]
     },
     "execution_count": 22,
     "metadata": {},
     "output_type": "execute_result"
    }
   ],
   "source": [
    "def calculate_bmi(weight_kg: float, height_m: float) -> str:\n",
    "    if height_m <= 0:\n",
    "        return \"Error: Height must be greater than zero.\"\n",
    "    if weight_kg <= 0:\n",
    "        return \"Error: Weight must be greater than zero.\"\n",
    "\n",
    "    bmi = weight_kg / (height_m ** 2)\n",
    "    \n",
    "    if bmi < 18.5:\n",
    "        category = \"Underweight\"\n",
    "    elif 18.5 <= bmi < 24.9:\n",
    "        category = \"Normal weight\"\n",
    "    elif 25 <= bmi < 29.9:\n",
    "        category = \"Overweight\"\n",
    "    else:\n",
    "        category = \"Obesity\"\n",
    "    \n",
    "    return f\"Your BMI is {bmi:.2f} ({category}).\"\n",
    "\n",
    "calculate_bmi(70, 1.75)"
   ]
  },
  {
   "cell_type": "code",
   "execution_count": 23,
   "id": "a4833100",
   "metadata": {},
   "outputs": [
    {
     "name": "stdout",
     "output_type": "stream",
     "text": [
      "1035\n"
     ]
    }
   ],
   "source": [
    "a=23\n",
    "b=45\n",
    "result=lambda a,b:a*b\n",
    "print(result(a,b))\n"
   ]
  },
  {
   "cell_type": "code",
   "execution_count": 24,
   "id": "5b1a584b",
   "metadata": {},
   "outputs": [
    {
     "name": "stdout",
     "output_type": "stream",
     "text": [
      "I am Okan Naci, a number module.\n"
     ]
    }
   ],
   "source": [
    "import importlib\n",
    "import myNumModule as m  # Import your module with an alias\n",
    "\n",
    "# Reload module in case you edited it after the first import\n",
    "importlib.reload(m)\n",
    "print(m.who_am_i(\"Okan\", \"Naci\"))\n"
   ]
  },
  {
   "cell_type": "code",
   "execution_count": 25,
   "id": "ce004589",
   "metadata": {},
   "outputs": [
    {
     "data": {
      "text/plain": [
       "46.57142857142857"
      ]
     },
     "execution_count": 25,
     "metadata": {},
     "output_type": "execute_result"
    }
   ],
   "source": [
    "import statistics as st \n",
    "ages=[23,45,67,89,12,34,56]\n",
    "st.mean(ages)"
   ]
  },
  {
   "cell_type": "code",
   "execution_count": 26,
   "id": "b339f555",
   "metadata": {},
   "outputs": [],
   "source": [
    "#clean the data \n",
    "data_science_jobs = [\n",
    "    {'job_title': 'Data Scientist', 'job_skills': \"['Python', 'SQL', 'Machine Learning']\", 'job_date': '2023-05-12'},\n",
    "    {'job_title': 'Machine Learning Engineer', 'job_skills': \"['Python', 'TensorFlow', 'Deep Learning']\", 'job_date': '2023-05-15'},\n",
    "    {'job_title': 'Data Analyst', 'job_skills': \"['SQL', 'R', 'Tableau']\", 'job_date': '2023-05-10'},\n",
    "    {'job_title': 'Business Intelligence Developer', 'job_skills': \"['SQL', 'PowerBI', 'Data Warehousing']\", 'job_date': '2023-05-08'},\n",
    "    {'job_title': 'Data Engineer', 'job_skills': \"['Python', 'Spark', 'Hadoop']\", 'job_date': '2023-05-18'},\n",
    "    {'job_title': 'AI Specialist', 'job_skills': \"['Python', 'PyTorch', 'AI Ethics']\", 'job_date': '2023-05-20'}\n",
    "]"
   ]
  },
  {
   "cell_type": "code",
   "execution_count": 27,
   "id": "16a21423",
   "metadata": {},
   "outputs": [
    {
     "data": {
      "text/plain": [
       "datetime.datetime(2025, 9, 13, 12, 52, 54, 971384)"
      ]
     },
     "execution_count": 27,
     "metadata": {},
     "output_type": "execute_result"
    }
   ],
   "source": [
    "from datetime import datetime\n",
    "datetime.now()"
   ]
  },
  {
   "cell_type": "code",
   "execution_count": 28,
   "id": "51a74402",
   "metadata": {},
   "outputs": [
    {
     "name": "stdout",
     "output_type": "stream",
     "text": [
      "2023-05-12 00:00:00\n"
     ]
    }
   ],
   "source": [
    "date=data_science_jobs[0]['job_date']\n",
    "print(datetime.strptime(date, '%Y-%m-%d'))"
   ]
  },
  {
   "cell_type": "code",
   "execution_count": 29,
   "id": "ebb42b40",
   "metadata": {},
   "outputs": [],
   "source": [
    "import ast \n",
    "for job in data_science_jobs:\n",
    "    job['job_date']=datetime.strptime(job['job_date'], '%Y-%m-%d')\n",
    "    job['job_skills']=ast.literal_eval(job['job_skills'])"
   ]
  },
  {
   "cell_type": "code",
   "execution_count": 30,
   "id": "0054a51e",
   "metadata": {},
   "outputs": [
    {
     "data": {
      "text/plain": [
       "[{'job_title': 'Data Scientist',\n",
       "  'job_skills': ['Python', 'SQL', 'Machine Learning'],\n",
       "  'job_date': datetime.datetime(2023, 5, 12, 0, 0)},\n",
       " {'job_title': 'Machine Learning Engineer',\n",
       "  'job_skills': ['Python', 'TensorFlow', 'Deep Learning'],\n",
       "  'job_date': datetime.datetime(2023, 5, 15, 0, 0)},\n",
       " {'job_title': 'Data Analyst',\n",
       "  'job_skills': ['SQL', 'R', 'Tableau'],\n",
       "  'job_date': datetime.datetime(2023, 5, 10, 0, 0)},\n",
       " {'job_title': 'Business Intelligence Developer',\n",
       "  'job_skills': ['SQL', 'PowerBI', 'Data Warehousing'],\n",
       "  'job_date': datetime.datetime(2023, 5, 8, 0, 0)},\n",
       " {'job_title': 'Data Engineer',\n",
       "  'job_skills': ['Python', 'Spark', 'Hadoop'],\n",
       "  'job_date': datetime.datetime(2023, 5, 18, 0, 0)},\n",
       " {'job_title': 'AI Specialist',\n",
       "  'job_skills': ['Python', 'PyTorch', 'AI Ethics'],\n",
       "  'job_date': datetime.datetime(2023, 5, 20, 0, 0)}]"
      ]
     },
     "execution_count": 30,
     "metadata": {},
     "output_type": "execute_result"
    }
   ],
   "source": [
    "data_science_jobs"
   ]
  },
  {
   "cell_type": "code",
   "execution_count": 31,
   "id": "12a16125",
   "metadata": {},
   "outputs": [
    {
     "name": "stdout",
     "output_type": "stream",
     "text": [
      "2591213\n"
     ]
    }
   ],
   "source": [
    "import os\n",
    "size = os.path.getsize(\"ai_job_dataset.csv\")\n",
    "print(size)"
   ]
  },
  {
   "cell_type": "code",
   "execution_count": 32,
   "id": "03f24147",
   "metadata": {},
   "outputs": [
    {
     "data": {
      "text/plain": [
       "0         Bachelor\n",
       "1           Master\n",
       "2        Associate\n",
       "3              PhD\n",
       "4           Master\n",
       "           ...    \n",
       "14995     Bachelor\n",
       "14996       Master\n",
       "14997    Associate\n",
       "14998          PhD\n",
       "14999          PhD\n",
       "Name: education_required, Length: 15000, dtype: object"
      ]
     },
     "execution_count": 32,
     "metadata": {},
     "output_type": "execute_result"
    }
   ],
   "source": [
    "import pandas as pd \n",
    "contents = pd.read_csv(\"ai_job_dataset.csv\")\n",
    "contents['education_required']"
   ]
  },
  {
   "cell_type": "code",
   "execution_count": 33,
   "id": "db325f94",
   "metadata": {},
   "outputs": [
    {
     "data": {
      "text/plain": [
       "array([2, 4, 6, 8])"
      ]
     },
     "execution_count": 33,
     "metadata": {},
     "output_type": "execute_result"
    }
   ],
   "source": [
    "import numpy as np\n",
    "arr = np.array([1,2,3,4])\n",
    "multipled=arr * 2\n",
    "multipled\n"
   ]
  },
  {
   "cell_type": "code",
   "execution_count": 34,
   "id": "ba9d3549",
   "metadata": {},
   "outputs": [
    {
     "data": {
      "text/plain": [
       "dtype('int16')"
      ]
     },
     "execution_count": 34,
     "metadata": {},
     "output_type": "execute_result"
    }
   ],
   "source": [
    "arr = np.array([1, 2, 3], dtype=np.int16)  # Uses 16-bit integers\n",
    "arr.dtype"
   ]
  },
  {
   "cell_type": "code",
   "execution_count": 35,
   "id": "2622999a",
   "metadata": {},
   "outputs": [],
   "source": [
    "class BaseSalary:\n",
    "    def __init__(self, base_salary,symbol='$'):\n",
    "        self.base_salary = f\"{symbol} {base_salary}\"\n",
    "        pass"
   ]
  },
  {
   "cell_type": "code",
   "execution_count": 36,
   "id": "d8a0106d",
   "metadata": {},
   "outputs": [
    {
     "data": {
      "text/plain": [
       "'$ 10000'"
      ]
     },
     "execution_count": 36,
     "metadata": {},
     "output_type": "execute_result"
    }
   ],
   "source": [
    "jacks=BaseSalary(10000)\n",
    "jacks.base_salary   "
   ]
  },
  {
   "cell_type": "code",
   "execution_count": 37,
   "id": "e2c46504",
   "metadata": {},
   "outputs": [],
   "source": [
    "import random as rm \n",
    "salary_list = [rm.randint(10000,50000) for _ in range(5)]"
   ]
  },
  {
   "cell_type": "code",
   "execution_count": 38,
   "id": "d1464747",
   "metadata": {},
   "outputs": [],
   "source": [
    "import numpy as np\n"
   ]
  },
  {
   "cell_type": "code",
   "execution_count": 39,
   "id": "42f4f6ab",
   "metadata": {},
   "outputs": [
    {
     "data": {
      "text/plain": [
       "array([[1., 1., 1., 1.],\n",
       "       [1., 1., 1., 1.],\n",
       "       [1., 1., 1., 1.]])"
      ]
     },
     "execution_count": 39,
     "metadata": {},
     "output_type": "execute_result"
    }
   ],
   "source": [
    "A=np.ones((3,4))\n",
    "A"
   ]
  },
  {
   "cell_type": "code",
   "execution_count": 40,
   "id": "e4a3ac3c",
   "metadata": {},
   "outputs": [],
   "source": [
    "v = np.array([1,2,3,4])"
   ]
  },
  {
   "cell_type": "code",
   "execution_count": 41,
   "id": "07fb7df0",
   "metadata": {},
   "outputs": [
    {
     "data": {
      "text/plain": [
       "array([[2., 3., 4., 5.],\n",
       "       [2., 3., 4., 5.],\n",
       "       [2., 3., 4., 5.]])"
      ]
     },
     "execution_count": 41,
     "metadata": {},
     "output_type": "execute_result"
    }
   ],
   "source": [
    "B=A+v\n",
    "B"
   ]
  },
  {
   "cell_type": "code",
   "execution_count": 42,
   "id": "f664e908",
   "metadata": {},
   "outputs": [
    {
     "data": {
      "text/plain": [
       "(2, 3)"
      ]
     },
     "execution_count": 42,
     "metadata": {},
     "output_type": "execute_result"
    }
   ],
   "source": [
    "arr = np.array([[1,2,3],[4,5,6]])\n",
    "size=arr.shape\n",
    "size"
   ]
  },
  {
   "cell_type": "code",
   "execution_count": 43,
   "id": "0f14f68a",
   "metadata": {},
   "outputs": [
    {
     "name": "stdout",
     "output_type": "stream",
     "text": [
      "[5 7 9]\n",
      "[ 6 15]\n"
     ]
    }
   ],
   "source": [
    "print(arr.sum(axis=0))  #sum of each column\n",
    "print(arr.sum(axis=1))"
   ]
  },
  {
   "cell_type": "code",
   "execution_count": 44,
   "id": "38e40737",
   "metadata": {},
   "outputs": [
    {
     "data": {
      "text/plain": [
       "array([[1, 2, 3],\n",
       "       [4, 5, 6]])"
      ]
     },
     "execution_count": 44,
     "metadata": {},
     "output_type": "execute_result"
    }
   ],
   "source": [
    "arr = np.array([1,2,3,4,5,6])\n",
    "arr = arr.reshape(2,3)\n",
    "arr\n",
    "arr.ravel()\n",
    "arr"
   ]
  },
  {
   "cell_type": "code",
   "execution_count": 45,
   "id": "540f243c",
   "metadata": {},
   "outputs": [
    {
     "data": {
      "text/plain": [
       "array([[1, 2, 3],\n",
       "       [4, 5, 6]])"
      ]
     },
     "execution_count": 45,
     "metadata": {},
     "output_type": "execute_result"
    }
   ],
   "source": [
    "arr.T\n",
    "arr"
   ]
  },
  {
   "cell_type": "code",
   "execution_count": 46,
   "id": "4ddcfd99",
   "metadata": {},
   "outputs": [
    {
     "data": {
      "text/plain": [
       "array([4, 5, 6])"
      ]
     },
     "execution_count": 46,
     "metadata": {},
     "output_type": "execute_result"
    }
   ],
   "source": [
    "arr[-1]"
   ]
  },
  {
   "cell_type": "code",
   "execution_count": 47,
   "id": "378891a7",
   "metadata": {},
   "outputs": [
    {
     "data": {
      "text/plain": [
       "array([2, 3, 4, 5, 6])"
      ]
     },
     "execution_count": 47,
     "metadata": {},
     "output_type": "execute_result"
    }
   ],
   "source": [
    "arr[arr>1]"
   ]
  },
  {
   "cell_type": "code",
   "execution_count": 48,
   "id": "2e48c5ca",
   "metadata": {},
   "outputs": [
    {
     "data": {
      "text/plain": [
       "array([1, 4])"
      ]
     },
     "execution_count": 48,
     "metadata": {},
     "output_type": "execute_result"
    }
   ],
   "source": [
    "arr[:,0]"
   ]
  },
  {
   "cell_type": "code",
   "execution_count": 49,
   "id": "bcca2ace",
   "metadata": {},
   "outputs": [
    {
     "name": "stdout",
     "output_type": "stream",
     "text": [
      "[0 1 2 3 4 5 6 7 8 9]\n",
      "[ 0  3  6  9 12 15 18 21 24 27]\n"
     ]
    }
   ],
   "source": [
    "np_array=np.arange(10)\n",
    "print(np_array)\n",
    "print(np_array*3)"
   ]
  },
  {
   "cell_type": "code",
   "execution_count": 50,
   "id": "5c780371",
   "metadata": {},
   "outputs": [
    {
     "name": "stdout",
     "output_type": "stream",
     "text": [
      "A @ B =\n",
      " [[19 22]\n",
      " [43 50]]\n",
      "inverse:\n",
      " [[-2.   1. ]\n",
      " [ 1.5 -0.5]]\n",
      "eigenvalues: [-0.37228132  5.37228132]\n"
     ]
    }
   ],
   "source": [
    "A = np.array([[1,2],[3,4]])\n",
    "B = np.array([[5,6],[7,8]])\n",
    "\n",
    "print(\"A @ B =\\n\", A @ B)          # matrix multiplication\n",
    "print(\"inverse:\\n\", np.linalg.inv(A))\n",
    "print(\"eigenvalues:\", np.linalg.eigvals(A))\n"
   ]
  },
  {
   "cell_type": "code",
   "execution_count": 51,
   "id": "7c38a840",
   "metadata": {},
   "outputs": [
    {
     "name": "stdout",
     "output_type": "stream",
     "text": [
      "[[0.77395605 0.43887844 0.85859792]\n",
      " [0.69736803 0.09417735 0.97562235]]\n",
      "[7 7 7 7 5]\n",
      "[-0.85304393  0.87939797  0.77779194  0.0660307   1.12724121]\n"
     ]
    }
   ],
   "source": [
    "rng = np.random.default_rng(42)\n",
    "print(rng.random((2,3)))          # uniform [0,1)\n",
    "print(rng.integers(0, 10, size=5)) # random integers\n",
    "print(rng.normal(0, 1, size=5))    # Gaussian\n"
   ]
  },
  {
   "cell_type": "code",
   "execution_count": 52,
   "id": "9407dd59",
   "metadata": {},
   "outputs": [
    {
     "name": "stdout",
     "output_type": "stream",
     "text": [
      "Mean:\n",
      " [4. 5. 6.]\n",
      "Standard Deviation:\n",
      " [2.44948974 2.44948974 2.44948974]\n",
      "[[-1.22474487 -1.22474487 -1.22474487]\n",
      " [ 0.          0.          0.        ]\n",
      " [ 1.22474487  1.22474487  1.22474487]]\n"
     ]
    }
   ],
   "source": [
    "X = np.array([[1,2,3],\n",
    "              [4,5,6],\n",
    "              [7,8,9]])\n",
    "\n",
    "mean = X.mean(axis=0)\n",
    "std = X.std(axis=0)\n",
    "X_norm = (X - mean) / std\n",
    "print(\"Mean:\\n\", mean)\n",
    "print(\"Standard Deviation:\\n\", std)\n",
    "print(X_norm)\n"
   ]
  },
  {
   "cell_type": "code",
   "execution_count": 53,
   "id": "2b08d7a9",
   "metadata": {},
   "outputs": [
    {
     "name": "stdout",
     "output_type": "stream",
     "text": [
      "      Name Department  Salary Joining_Date\n",
      "0    Alice         HR   50000   2020-01-10\n",
      "1      Bob         IT   60000   2019-03-15\n",
      "2  Charlie         IT   70000   2021-06-01\n",
      "3    Diana    Finance   80000   2018-07-20\n",
      "4     Evan         HR   55000   2020-05-25\n"
     ]
    }
   ],
   "source": [
    "import pandas as pd\n",
    "data = {\n",
    "    \"Name\": [\"Alice\", \"Bob\", \"Charlie\", \"Diana\", \"Evan\"],\n",
    "    \"Department\": [\"HR\", \"IT\", \"IT\", \"Finance\", \"HR\"],\n",
    "    \"Salary\": [50000, 60000, 70000, 80000, 55000],\n",
    "    \"Joining_Date\": [\"2020-01-10\", \"2019-03-15\", \"2021-06-01\", \"2018-07-20\", \"2020-05-25\"]\n",
    "}\n",
    "df = pd.DataFrame(data)\n",
    "df[\"Joining_Date\"] = pd.to_datetime(df[\"Joining_Date\"])\n",
    "print(df)\n"
   ]
  },
  {
   "cell_type": "code",
   "execution_count": 54,
   "id": "f7ddc389",
   "metadata": {},
   "outputs": [
    {
     "name": "stdout",
     "output_type": "stream",
     "text": [
      "<class 'pandas.core.frame.DataFrame'>\n",
      "RangeIndex: 5 entries, 0 to 4\n",
      "Data columns (total 4 columns):\n",
      " #   Column        Non-Null Count  Dtype         \n",
      "---  ------        --------------  -----         \n",
      " 0   Name          5 non-null      object        \n",
      " 1   Department    5 non-null      object        \n",
      " 2   Salary        5 non-null      int64         \n",
      " 3   Joining_Date  5 non-null      datetime64[ns]\n",
      "dtypes: datetime64[ns](1), int64(1), object(2)\n",
      "memory usage: 292.0+ bytes\n"
     ]
    }
   ],
   "source": [
    "df.info()"
   ]
  },
  {
   "cell_type": "code",
   "execution_count": 55,
   "id": "bb521014",
   "metadata": {},
   "outputs": [
    {
     "data": {
      "text/plain": [
       "Name                    object\n",
       "Department              object\n",
       "Salary                   int64\n",
       "Joining_Date    datetime64[ns]\n",
       "dtype: object"
      ]
     },
     "execution_count": 55,
     "metadata": {},
     "output_type": "execute_result"
    }
   ],
   "source": [
    "df.dtypes"
   ]
  },
  {
   "cell_type": "code",
   "execution_count": 56,
   "id": "37ef0e52",
   "metadata": {},
   "outputs": [
    {
     "data": {
      "text/plain": [
       "np.float64(63000.0)"
      ]
     },
     "execution_count": 56,
     "metadata": {},
     "output_type": "execute_result"
    }
   ],
   "source": [
    "df['Salary'].mean()"
   ]
  },
  {
   "cell_type": "code",
   "execution_count": 57,
   "id": "27f9db15",
   "metadata": {},
   "outputs": [
    {
     "data": {
      "text/plain": [
       "0    50000\n",
       "1    60000\n",
       "2    70000\n",
       "3    80000\n",
       "4    55000\n",
       "Name: Salary, dtype: int64"
      ]
     },
     "execution_count": 57,
     "metadata": {},
     "output_type": "execute_result"
    }
   ],
   "source": [
    "salarys=df['Salary']\n",
    "salarys"
   ]
  },
  {
   "cell_type": "code",
   "execution_count": 58,
   "id": "50503b67",
   "metadata": {},
   "outputs": [
    {
     "data": {
      "text/html": [
       "<div>\n",
       "<style scoped>\n",
       "    .dataframe tbody tr th:only-of-type {\n",
       "        vertical-align: middle;\n",
       "    }\n",
       "\n",
       "    .dataframe tbody tr th {\n",
       "        vertical-align: top;\n",
       "    }\n",
       "\n",
       "    .dataframe thead th {\n",
       "        text-align: right;\n",
       "    }\n",
       "</style>\n",
       "<table border=\"1\" class=\"dataframe\">\n",
       "  <thead>\n",
       "    <tr style=\"text-align: right;\">\n",
       "      <th></th>\n",
       "      <th>Name</th>\n",
       "      <th>Salary</th>\n",
       "    </tr>\n",
       "  </thead>\n",
       "  <tbody>\n",
       "    <tr>\n",
       "      <th>0</th>\n",
       "      <td>Alice</td>\n",
       "      <td>50000</td>\n",
       "    </tr>\n",
       "    <tr>\n",
       "      <th>1</th>\n",
       "      <td>Bob</td>\n",
       "      <td>60000</td>\n",
       "    </tr>\n",
       "    <tr>\n",
       "      <th>2</th>\n",
       "      <td>Charlie</td>\n",
       "      <td>70000</td>\n",
       "    </tr>\n",
       "    <tr>\n",
       "      <th>3</th>\n",
       "      <td>Diana</td>\n",
       "      <td>80000</td>\n",
       "    </tr>\n",
       "    <tr>\n",
       "      <th>4</th>\n",
       "      <td>Evan</td>\n",
       "      <td>55000</td>\n",
       "    </tr>\n",
       "  </tbody>\n",
       "</table>\n",
       "</div>"
      ],
      "text/plain": [
       "      Name  Salary\n",
       "0    Alice   50000\n",
       "1      Bob   60000\n",
       "2  Charlie   70000\n",
       "3    Diana   80000\n",
       "4     Evan   55000"
      ]
     },
     "execution_count": 58,
     "metadata": {},
     "output_type": "execute_result"
    }
   ],
   "source": [
    "df[[\"Name\", \"Salary\"]]"
   ]
  },
  {
   "cell_type": "code",
   "execution_count": 59,
   "id": "4be449e7",
   "metadata": {},
   "outputs": [],
   "source": [
    "df=pd.read_csv(\"ai_job_dataset.csv\")"
   ]
  },
  {
   "cell_type": "code",
   "execution_count": 60,
   "id": "b2c9c94f",
   "metadata": {},
   "outputs": [
    {
     "data": {
      "text/html": [
       "<div>\n",
       "<style scoped>\n",
       "    .dataframe tbody tr th:only-of-type {\n",
       "        vertical-align: middle;\n",
       "    }\n",
       "\n",
       "    .dataframe tbody tr th {\n",
       "        vertical-align: top;\n",
       "    }\n",
       "\n",
       "    .dataframe thead th {\n",
       "        text-align: right;\n",
       "    }\n",
       "</style>\n",
       "<table border=\"1\" class=\"dataframe\">\n",
       "  <thead>\n",
       "    <tr style=\"text-align: right;\">\n",
       "      <th></th>\n",
       "      <th>job_id</th>\n",
       "      <th>job_title</th>\n",
       "      <th>salary_usd</th>\n",
       "      <th>salary_currency</th>\n",
       "      <th>experience_level</th>\n",
       "      <th>employment_type</th>\n",
       "      <th>company_location</th>\n",
       "      <th>company_size</th>\n",
       "      <th>employee_residence</th>\n",
       "      <th>remote_ratio</th>\n",
       "      <th>required_skills</th>\n",
       "      <th>education_required</th>\n",
       "      <th>years_experience</th>\n",
       "      <th>industry</th>\n",
       "      <th>posting_date</th>\n",
       "      <th>application_deadline</th>\n",
       "      <th>job_description_length</th>\n",
       "      <th>benefits_score</th>\n",
       "      <th>company_name</th>\n",
       "    </tr>\n",
       "  </thead>\n",
       "  <tbody>\n",
       "    <tr>\n",
       "      <th>0</th>\n",
       "      <td>AI00001</td>\n",
       "      <td>AI Research Scientist</td>\n",
       "      <td>90376</td>\n",
       "      <td>USD</td>\n",
       "      <td>SE</td>\n",
       "      <td>CT</td>\n",
       "      <td>China</td>\n",
       "      <td>M</td>\n",
       "      <td>China</td>\n",
       "      <td>50</td>\n",
       "      <td>Tableau, PyTorch, Kubernetes, Linux, NLP</td>\n",
       "      <td>Bachelor</td>\n",
       "      <td>9</td>\n",
       "      <td>Automotive</td>\n",
       "      <td>2024-10-18</td>\n",
       "      <td>2024-11-07</td>\n",
       "      <td>1076</td>\n",
       "      <td>5.9</td>\n",
       "      <td>Smart Analytics</td>\n",
       "    </tr>\n",
       "    <tr>\n",
       "      <th>1</th>\n",
       "      <td>AI00002</td>\n",
       "      <td>AI Software Engineer</td>\n",
       "      <td>61895</td>\n",
       "      <td>USD</td>\n",
       "      <td>EN</td>\n",
       "      <td>CT</td>\n",
       "      <td>Canada</td>\n",
       "      <td>M</td>\n",
       "      <td>Ireland</td>\n",
       "      <td>100</td>\n",
       "      <td>Deep Learning, AWS, Mathematics, Python, Docker</td>\n",
       "      <td>Master</td>\n",
       "      <td>1</td>\n",
       "      <td>Media</td>\n",
       "      <td>2024-11-20</td>\n",
       "      <td>2025-01-11</td>\n",
       "      <td>1268</td>\n",
       "      <td>5.2</td>\n",
       "      <td>TechCorp Inc</td>\n",
       "    </tr>\n",
       "    <tr>\n",
       "      <th>2</th>\n",
       "      <td>AI00003</td>\n",
       "      <td>AI Specialist</td>\n",
       "      <td>152626</td>\n",
       "      <td>USD</td>\n",
       "      <td>MI</td>\n",
       "      <td>FL</td>\n",
       "      <td>Switzerland</td>\n",
       "      <td>L</td>\n",
       "      <td>South Korea</td>\n",
       "      <td>0</td>\n",
       "      <td>Kubernetes, Deep Learning, Java, Hadoop, NLP</td>\n",
       "      <td>Associate</td>\n",
       "      <td>2</td>\n",
       "      <td>Education</td>\n",
       "      <td>2025-03-18</td>\n",
       "      <td>2025-04-07</td>\n",
       "      <td>1974</td>\n",
       "      <td>9.4</td>\n",
       "      <td>Autonomous Tech</td>\n",
       "    </tr>\n",
       "    <tr>\n",
       "      <th>3</th>\n",
       "      <td>AI00004</td>\n",
       "      <td>NLP Engineer</td>\n",
       "      <td>80215</td>\n",
       "      <td>USD</td>\n",
       "      <td>SE</td>\n",
       "      <td>FL</td>\n",
       "      <td>India</td>\n",
       "      <td>M</td>\n",
       "      <td>India</td>\n",
       "      <td>50</td>\n",
       "      <td>Scala, SQL, Linux, Python</td>\n",
       "      <td>PhD</td>\n",
       "      <td>7</td>\n",
       "      <td>Consulting</td>\n",
       "      <td>2024-12-23</td>\n",
       "      <td>2025-02-24</td>\n",
       "      <td>1345</td>\n",
       "      <td>8.6</td>\n",
       "      <td>Future Systems</td>\n",
       "    </tr>\n",
       "    <tr>\n",
       "      <th>4</th>\n",
       "      <td>AI00005</td>\n",
       "      <td>AI Consultant</td>\n",
       "      <td>54624</td>\n",
       "      <td>EUR</td>\n",
       "      <td>EN</td>\n",
       "      <td>PT</td>\n",
       "      <td>France</td>\n",
       "      <td>S</td>\n",
       "      <td>Singapore</td>\n",
       "      <td>100</td>\n",
       "      <td>MLOps, Java, Tableau, Python</td>\n",
       "      <td>Master</td>\n",
       "      <td>0</td>\n",
       "      <td>Media</td>\n",
       "      <td>2025-04-15</td>\n",
       "      <td>2025-06-23</td>\n",
       "      <td>1989</td>\n",
       "      <td>6.6</td>\n",
       "      <td>Advanced Robotics</td>\n",
       "    </tr>\n",
       "    <tr>\n",
       "      <th>...</th>\n",
       "      <td>...</td>\n",
       "      <td>...</td>\n",
       "      <td>...</td>\n",
       "      <td>...</td>\n",
       "      <td>...</td>\n",
       "      <td>...</td>\n",
       "      <td>...</td>\n",
       "      <td>...</td>\n",
       "      <td>...</td>\n",
       "      <td>...</td>\n",
       "      <td>...</td>\n",
       "      <td>...</td>\n",
       "      <td>...</td>\n",
       "      <td>...</td>\n",
       "      <td>...</td>\n",
       "      <td>...</td>\n",
       "      <td>...</td>\n",
       "      <td>...</td>\n",
       "      <td>...</td>\n",
       "    </tr>\n",
       "    <tr>\n",
       "      <th>14995</th>\n",
       "      <td>AI14996</td>\n",
       "      <td>Robotics Engineer</td>\n",
       "      <td>38604</td>\n",
       "      <td>USD</td>\n",
       "      <td>EN</td>\n",
       "      <td>FL</td>\n",
       "      <td>Finland</td>\n",
       "      <td>S</td>\n",
       "      <td>Finland</td>\n",
       "      <td>50</td>\n",
       "      <td>Java, Kubernetes, Azure</td>\n",
       "      <td>Bachelor</td>\n",
       "      <td>1</td>\n",
       "      <td>Energy</td>\n",
       "      <td>2025-02-06</td>\n",
       "      <td>2025-03-25</td>\n",
       "      <td>1635</td>\n",
       "      <td>7.9</td>\n",
       "      <td>Advanced Robotics</td>\n",
       "    </tr>\n",
       "    <tr>\n",
       "      <th>14996</th>\n",
       "      <td>AI14997</td>\n",
       "      <td>Machine Learning Researcher</td>\n",
       "      <td>57811</td>\n",
       "      <td>GBP</td>\n",
       "      <td>EN</td>\n",
       "      <td>CT</td>\n",
       "      <td>United Kingdom</td>\n",
       "      <td>M</td>\n",
       "      <td>United Kingdom</td>\n",
       "      <td>0</td>\n",
       "      <td>Mathematics, Docker, SQL, Deep Learning</td>\n",
       "      <td>Master</td>\n",
       "      <td>0</td>\n",
       "      <td>Government</td>\n",
       "      <td>2024-10-16</td>\n",
       "      <td>2024-10-30</td>\n",
       "      <td>1624</td>\n",
       "      <td>8.2</td>\n",
       "      <td>Smart Analytics</td>\n",
       "    </tr>\n",
       "    <tr>\n",
       "      <th>14997</th>\n",
       "      <td>AI14998</td>\n",
       "      <td>NLP Engineer</td>\n",
       "      <td>189490</td>\n",
       "      <td>USD</td>\n",
       "      <td>EX</td>\n",
       "      <td>CT</td>\n",
       "      <td>South Korea</td>\n",
       "      <td>L</td>\n",
       "      <td>South Korea</td>\n",
       "      <td>50</td>\n",
       "      <td>Scala, Spark, NLP</td>\n",
       "      <td>Associate</td>\n",
       "      <td>17</td>\n",
       "      <td>Manufacturing</td>\n",
       "      <td>2024-03-19</td>\n",
       "      <td>2024-05-02</td>\n",
       "      <td>1336</td>\n",
       "      <td>7.4</td>\n",
       "      <td>AI Innovations</td>\n",
       "    </tr>\n",
       "    <tr>\n",
       "      <th>14998</th>\n",
       "      <td>AI14999</td>\n",
       "      <td>Head of AI</td>\n",
       "      <td>79461</td>\n",
       "      <td>EUR</td>\n",
       "      <td>EN</td>\n",
       "      <td>FT</td>\n",
       "      <td>Netherlands</td>\n",
       "      <td>M</td>\n",
       "      <td>Netherlands</td>\n",
       "      <td>0</td>\n",
       "      <td>Java, Computer Vision, Python, TensorFlow</td>\n",
       "      <td>PhD</td>\n",
       "      <td>1</td>\n",
       "      <td>Real Estate</td>\n",
       "      <td>2024-03-22</td>\n",
       "      <td>2024-04-23</td>\n",
       "      <td>1935</td>\n",
       "      <td>5.6</td>\n",
       "      <td>Smart Analytics</td>\n",
       "    </tr>\n",
       "    <tr>\n",
       "      <th>14999</th>\n",
       "      <td>AI15000</td>\n",
       "      <td>Computer Vision Engineer</td>\n",
       "      <td>56481</td>\n",
       "      <td>USD</td>\n",
       "      <td>MI</td>\n",
       "      <td>PT</td>\n",
       "      <td>Austria</td>\n",
       "      <td>S</td>\n",
       "      <td>Austria</td>\n",
       "      <td>50</td>\n",
       "      <td>Scala, Azure, Deep Learning, GCP, Mathematics</td>\n",
       "      <td>PhD</td>\n",
       "      <td>2</td>\n",
       "      <td>Technology</td>\n",
       "      <td>2024-07-18</td>\n",
       "      <td>2024-08-10</td>\n",
       "      <td>2492</td>\n",
       "      <td>7.6</td>\n",
       "      <td>AI Innovations</td>\n",
       "    </tr>\n",
       "  </tbody>\n",
       "</table>\n",
       "<p>15000 rows × 19 columns</p>\n",
       "</div>"
      ],
      "text/plain": [
       "        job_id                    job_title  salary_usd salary_currency  \\\n",
       "0      AI00001        AI Research Scientist       90376             USD   \n",
       "1      AI00002         AI Software Engineer       61895             USD   \n",
       "2      AI00003                AI Specialist      152626             USD   \n",
       "3      AI00004                 NLP Engineer       80215             USD   \n",
       "4      AI00005                AI Consultant       54624             EUR   \n",
       "...        ...                          ...         ...             ...   \n",
       "14995  AI14996            Robotics Engineer       38604             USD   \n",
       "14996  AI14997  Machine Learning Researcher       57811             GBP   \n",
       "14997  AI14998                 NLP Engineer      189490             USD   \n",
       "14998  AI14999                   Head of AI       79461             EUR   \n",
       "14999  AI15000     Computer Vision Engineer       56481             USD   \n",
       "\n",
       "      experience_level employment_type company_location company_size  \\\n",
       "0                   SE              CT            China            M   \n",
       "1                   EN              CT           Canada            M   \n",
       "2                   MI              FL      Switzerland            L   \n",
       "3                   SE              FL            India            M   \n",
       "4                   EN              PT           France            S   \n",
       "...                ...             ...              ...          ...   \n",
       "14995               EN              FL          Finland            S   \n",
       "14996               EN              CT   United Kingdom            M   \n",
       "14997               EX              CT      South Korea            L   \n",
       "14998               EN              FT      Netherlands            M   \n",
       "14999               MI              PT          Austria            S   \n",
       "\n",
       "      employee_residence  remote_ratio  \\\n",
       "0                  China            50   \n",
       "1                Ireland           100   \n",
       "2            South Korea             0   \n",
       "3                  India            50   \n",
       "4              Singapore           100   \n",
       "...                  ...           ...   \n",
       "14995            Finland            50   \n",
       "14996     United Kingdom             0   \n",
       "14997        South Korea            50   \n",
       "14998        Netherlands             0   \n",
       "14999            Austria            50   \n",
       "\n",
       "                                       required_skills education_required  \\\n",
       "0             Tableau, PyTorch, Kubernetes, Linux, NLP           Bachelor   \n",
       "1      Deep Learning, AWS, Mathematics, Python, Docker             Master   \n",
       "2         Kubernetes, Deep Learning, Java, Hadoop, NLP          Associate   \n",
       "3                            Scala, SQL, Linux, Python                PhD   \n",
       "4                         MLOps, Java, Tableau, Python             Master   \n",
       "...                                                ...                ...   \n",
       "14995                          Java, Kubernetes, Azure           Bachelor   \n",
       "14996          Mathematics, Docker, SQL, Deep Learning             Master   \n",
       "14997                                Scala, Spark, NLP          Associate   \n",
       "14998        Java, Computer Vision, Python, TensorFlow                PhD   \n",
       "14999    Scala, Azure, Deep Learning, GCP, Mathematics                PhD   \n",
       "\n",
       "       years_experience       industry posting_date application_deadline  \\\n",
       "0                     9     Automotive   2024-10-18           2024-11-07   \n",
       "1                     1          Media   2024-11-20           2025-01-11   \n",
       "2                     2      Education   2025-03-18           2025-04-07   \n",
       "3                     7     Consulting   2024-12-23           2025-02-24   \n",
       "4                     0          Media   2025-04-15           2025-06-23   \n",
       "...                 ...            ...          ...                  ...   \n",
       "14995                 1         Energy   2025-02-06           2025-03-25   \n",
       "14996                 0     Government   2024-10-16           2024-10-30   \n",
       "14997                17  Manufacturing   2024-03-19           2024-05-02   \n",
       "14998                 1    Real Estate   2024-03-22           2024-04-23   \n",
       "14999                 2     Technology   2024-07-18           2024-08-10   \n",
       "\n",
       "       job_description_length  benefits_score       company_name  \n",
       "0                        1076             5.9    Smart Analytics  \n",
       "1                        1268             5.2       TechCorp Inc  \n",
       "2                        1974             9.4    Autonomous Tech  \n",
       "3                        1345             8.6     Future Systems  \n",
       "4                        1989             6.6  Advanced Robotics  \n",
       "...                       ...             ...                ...  \n",
       "14995                    1635             7.9  Advanced Robotics  \n",
       "14996                    1624             8.2    Smart Analytics  \n",
       "14997                    1336             7.4     AI Innovations  \n",
       "14998                    1935             5.6    Smart Analytics  \n",
       "14999                    2492             7.6     AI Innovations  \n",
       "\n",
       "[15000 rows x 19 columns]"
      ]
     },
     "execution_count": 60,
     "metadata": {},
     "output_type": "execute_result"
    }
   ],
   "source": [
    "df"
   ]
  },
  {
   "cell_type": "code",
   "execution_count": 61,
   "id": "29d636d7",
   "metadata": {},
   "outputs": [
    {
     "data": {
      "text/plain": [
       "0     90376\n",
       "1     61895\n",
       "2    152626\n",
       "3     80215\n",
       "4     54624\n",
       "Name: salary_usd, dtype: int64"
      ]
     },
     "execution_count": 61,
     "metadata": {},
     "output_type": "execute_result"
    }
   ],
   "source": [
    "df['salary_usd'].head()"
   ]
  },
  {
   "cell_type": "code",
   "execution_count": 62,
   "id": "a336204a",
   "metadata": {},
   "outputs": [
    {
     "data": {
      "text/html": [
       "<div>\n",
       "<style scoped>\n",
       "    .dataframe tbody tr th:only-of-type {\n",
       "        vertical-align: middle;\n",
       "    }\n",
       "\n",
       "    .dataframe tbody tr th {\n",
       "        vertical-align: top;\n",
       "    }\n",
       "\n",
       "    .dataframe thead th {\n",
       "        text-align: right;\n",
       "    }\n",
       "</style>\n",
       "<table border=\"1\" class=\"dataframe\">\n",
       "  <thead>\n",
       "    <tr style=\"text-align: right;\">\n",
       "      <th></th>\n",
       "      <th>job_id</th>\n",
       "      <th>job_title</th>\n",
       "      <th>salary_usd</th>\n",
       "      <th>salary_currency</th>\n",
       "      <th>experience_level</th>\n",
       "      <th>employment_type</th>\n",
       "      <th>company_location</th>\n",
       "      <th>company_size</th>\n",
       "      <th>employee_residence</th>\n",
       "      <th>remote_ratio</th>\n",
       "      <th>required_skills</th>\n",
       "      <th>education_required</th>\n",
       "      <th>years_experience</th>\n",
       "      <th>industry</th>\n",
       "      <th>posting_date</th>\n",
       "      <th>application_deadline</th>\n",
       "      <th>job_description_length</th>\n",
       "      <th>benefits_score</th>\n",
       "      <th>company_name</th>\n",
       "    </tr>\n",
       "  </thead>\n",
       "  <tbody>\n",
       "    <tr>\n",
       "      <th>2309</th>\n",
       "      <td>AI02310</td>\n",
       "      <td>AI Architect</td>\n",
       "      <td>398084</td>\n",
       "      <td>USD</td>\n",
       "      <td>EX</td>\n",
       "      <td>CT</td>\n",
       "      <td>Switzerland</td>\n",
       "      <td>L</td>\n",
       "      <td>Switzerland</td>\n",
       "      <td>100</td>\n",
       "      <td>Python, Linux, Tableau, TensorFlow</td>\n",
       "      <td>Associate</td>\n",
       "      <td>15</td>\n",
       "      <td>Automotive</td>\n",
       "      <td>2024-12-30</td>\n",
       "      <td>2025-02-20</td>\n",
       "      <td>1979</td>\n",
       "      <td>10.0</td>\n",
       "      <td>Future Systems</td>\n",
       "    </tr>\n",
       "    <tr>\n",
       "      <th>9891</th>\n",
       "      <td>AI09892</td>\n",
       "      <td>Machine Learning Researcher</td>\n",
       "      <td>399095</td>\n",
       "      <td>USD</td>\n",
       "      <td>EX</td>\n",
       "      <td>PT</td>\n",
       "      <td>Switzerland</td>\n",
       "      <td>L</td>\n",
       "      <td>Switzerland</td>\n",
       "      <td>0</td>\n",
       "      <td>Linux, Python, TensorFlow</td>\n",
       "      <td>Master</td>\n",
       "      <td>10</td>\n",
       "      <td>Retail</td>\n",
       "      <td>2024-07-10</td>\n",
       "      <td>2024-09-02</td>\n",
       "      <td>2277</td>\n",
       "      <td>9.7</td>\n",
       "      <td>TechCorp Inc</td>\n",
       "    </tr>\n",
       "    <tr>\n",
       "      <th>12499</th>\n",
       "      <td>AI12500</td>\n",
       "      <td>AI Research Scientist</td>\n",
       "      <td>394917</td>\n",
       "      <td>USD</td>\n",
       "      <td>EX</td>\n",
       "      <td>CT</td>\n",
       "      <td>Switzerland</td>\n",
       "      <td>L</td>\n",
       "      <td>Switzerland</td>\n",
       "      <td>50</td>\n",
       "      <td>Scala, PyTorch, Spark, Docker, Git</td>\n",
       "      <td>Master</td>\n",
       "      <td>12</td>\n",
       "      <td>Real Estate</td>\n",
       "      <td>2024-06-04</td>\n",
       "      <td>2024-08-13</td>\n",
       "      <td>1310</td>\n",
       "      <td>6.6</td>\n",
       "      <td>Machine Intelligence Group</td>\n",
       "    </tr>\n",
       "    <tr>\n",
       "      <th>12803</th>\n",
       "      <td>AI12804</td>\n",
       "      <td>AI Specialist</td>\n",
       "      <td>390292</td>\n",
       "      <td>USD</td>\n",
       "      <td>EX</td>\n",
       "      <td>FT</td>\n",
       "      <td>Switzerland</td>\n",
       "      <td>L</td>\n",
       "      <td>Switzerland</td>\n",
       "      <td>50</td>\n",
       "      <td>Java, SQL, PyTorch, Statistics, TensorFlow</td>\n",
       "      <td>Associate</td>\n",
       "      <td>11</td>\n",
       "      <td>Real Estate</td>\n",
       "      <td>2024-12-27</td>\n",
       "      <td>2025-01-24</td>\n",
       "      <td>1900</td>\n",
       "      <td>7.5</td>\n",
       "      <td>DataVision Ltd</td>\n",
       "    </tr>\n",
       "  </tbody>\n",
       "</table>\n",
       "</div>"
      ],
      "text/plain": [
       "        job_id                    job_title  salary_usd salary_currency  \\\n",
       "2309   AI02310                 AI Architect      398084             USD   \n",
       "9891   AI09892  Machine Learning Researcher      399095             USD   \n",
       "12499  AI12500        AI Research Scientist      394917             USD   \n",
       "12803  AI12804                AI Specialist      390292             USD   \n",
       "\n",
       "      experience_level employment_type company_location company_size  \\\n",
       "2309                EX              CT      Switzerland            L   \n",
       "9891                EX              PT      Switzerland            L   \n",
       "12499               EX              CT      Switzerland            L   \n",
       "12803               EX              FT      Switzerland            L   \n",
       "\n",
       "      employee_residence  remote_ratio  \\\n",
       "2309         Switzerland           100   \n",
       "9891         Switzerland             0   \n",
       "12499        Switzerland            50   \n",
       "12803        Switzerland            50   \n",
       "\n",
       "                                  required_skills education_required  \\\n",
       "2309           Python, Linux, Tableau, TensorFlow          Associate   \n",
       "9891                    Linux, Python, TensorFlow             Master   \n",
       "12499          Scala, PyTorch, Spark, Docker, Git             Master   \n",
       "12803  Java, SQL, PyTorch, Statistics, TensorFlow          Associate   \n",
       "\n",
       "       years_experience     industry posting_date application_deadline  \\\n",
       "2309                 15   Automotive   2024-12-30           2025-02-20   \n",
       "9891                 10       Retail   2024-07-10           2024-09-02   \n",
       "12499                12  Real Estate   2024-06-04           2024-08-13   \n",
       "12803                11  Real Estate   2024-12-27           2025-01-24   \n",
       "\n",
       "       job_description_length  benefits_score                company_name  \n",
       "2309                     1979            10.0              Future Systems  \n",
       "9891                     2277             9.7                TechCorp Inc  \n",
       "12499                    1310             6.6  Machine Intelligence Group  \n",
       "12803                    1900             7.5              DataVision Ltd  "
      ]
     },
     "execution_count": 62,
     "metadata": {},
     "output_type": "execute_result"
    }
   ],
   "source": [
    "highes_paid=df[df['salary_usd']>390000]\n",
    "highes_paid"
   ]
  },
  {
   "cell_type": "code",
   "execution_count": 63,
   "id": "226264f7",
   "metadata": {},
   "outputs": [
    {
     "data": {
      "text/plain": [
       "'AI Research Scientist'"
      ]
     },
     "execution_count": 63,
     "metadata": {},
     "output_type": "execute_result"
    }
   ],
   "source": [
    "row0_name = df.loc[0, \"job_title\"] \n",
    "row0_name"
   ]
  },
  {
   "cell_type": "code",
   "execution_count": 64,
   "id": "99eb75b4",
   "metadata": {},
   "outputs": [
    {
     "data": {
      "text/plain": [
       "np.int64(90376)"
      ]
     },
     "execution_count": 64,
     "metadata": {},
     "output_type": "execute_result"
    }
   ],
   "source": [
    "first_row_third_col = df.iloc[0, 2]  # first row, 3rd column\n",
    "first_row_third_col"
   ]
  },
  {
   "cell_type": "code",
   "execution_count": 65,
   "id": "4b5ae06e",
   "metadata": {},
   "outputs": [],
   "source": [
    "us_highes_paid = df[(df['salary_currency']=='USD') & (df['salary_usd']>380000)]"
   ]
  },
  {
   "cell_type": "code",
   "execution_count": 66,
   "id": "53b965d6",
   "metadata": {},
   "outputs": [
    {
     "data": {
      "text/html": [
       "<div>\n",
       "<style scoped>\n",
       "    .dataframe tbody tr th:only-of-type {\n",
       "        vertical-align: middle;\n",
       "    }\n",
       "\n",
       "    .dataframe tbody tr th {\n",
       "        vertical-align: top;\n",
       "    }\n",
       "\n",
       "    .dataframe thead th {\n",
       "        text-align: right;\n",
       "    }\n",
       "</style>\n",
       "<table border=\"1\" class=\"dataframe\">\n",
       "  <thead>\n",
       "    <tr style=\"text-align: right;\">\n",
       "      <th></th>\n",
       "      <th>job_id</th>\n",
       "      <th>job_title</th>\n",
       "      <th>salary_usd</th>\n",
       "      <th>salary_currency</th>\n",
       "      <th>experience_level</th>\n",
       "      <th>employment_type</th>\n",
       "      <th>company_location</th>\n",
       "      <th>company_size</th>\n",
       "      <th>employee_residence</th>\n",
       "      <th>remote_ratio</th>\n",
       "      <th>required_skills</th>\n",
       "      <th>education_required</th>\n",
       "      <th>years_experience</th>\n",
       "      <th>industry</th>\n",
       "      <th>posting_date</th>\n",
       "      <th>application_deadline</th>\n",
       "      <th>job_description_length</th>\n",
       "      <th>benefits_score</th>\n",
       "      <th>company_name</th>\n",
       "    </tr>\n",
       "  </thead>\n",
       "  <tbody>\n",
       "    <tr>\n",
       "      <th>317</th>\n",
       "      <td>AI00318</td>\n",
       "      <td>Data Scientist</td>\n",
       "      <td>388754</td>\n",
       "      <td>USD</td>\n",
       "      <td>EX</td>\n",
       "      <td>CT</td>\n",
       "      <td>Switzerland</td>\n",
       "      <td>L</td>\n",
       "      <td>United States</td>\n",
       "      <td>0</td>\n",
       "      <td>Docker, Python, Mathematics</td>\n",
       "      <td>Master</td>\n",
       "      <td>16</td>\n",
       "      <td>Transportation</td>\n",
       "      <td>2024-06-20</td>\n",
       "      <td>2024-08-11</td>\n",
       "      <td>829</td>\n",
       "      <td>8.6</td>\n",
       "      <td>DeepTech Ventures</td>\n",
       "    </tr>\n",
       "    <tr>\n",
       "      <th>2309</th>\n",
       "      <td>AI02310</td>\n",
       "      <td>AI Architect</td>\n",
       "      <td>398084</td>\n",
       "      <td>USD</td>\n",
       "      <td>EX</td>\n",
       "      <td>CT</td>\n",
       "      <td>Switzerland</td>\n",
       "      <td>L</td>\n",
       "      <td>Switzerland</td>\n",
       "      <td>100</td>\n",
       "      <td>Python, Linux, Tableau, TensorFlow</td>\n",
       "      <td>Associate</td>\n",
       "      <td>15</td>\n",
       "      <td>Automotive</td>\n",
       "      <td>2024-12-30</td>\n",
       "      <td>2025-02-20</td>\n",
       "      <td>1979</td>\n",
       "      <td>10.0</td>\n",
       "      <td>Future Systems</td>\n",
       "    </tr>\n",
       "    <tr>\n",
       "      <th>5483</th>\n",
       "      <td>AI05484</td>\n",
       "      <td>AI Architect</td>\n",
       "      <td>383142</td>\n",
       "      <td>USD</td>\n",
       "      <td>EX</td>\n",
       "      <td>PT</td>\n",
       "      <td>Switzerland</td>\n",
       "      <td>L</td>\n",
       "      <td>Switzerland</td>\n",
       "      <td>50</td>\n",
       "      <td>Git, Python, Hadoop, TensorFlow</td>\n",
       "      <td>Master</td>\n",
       "      <td>12</td>\n",
       "      <td>Technology</td>\n",
       "      <td>2025-01-13</td>\n",
       "      <td>2025-01-27</td>\n",
       "      <td>1463</td>\n",
       "      <td>9.2</td>\n",
       "      <td>Future Systems</td>\n",
       "    </tr>\n",
       "    <tr>\n",
       "      <th>9891</th>\n",
       "      <td>AI09892</td>\n",
       "      <td>Machine Learning Researcher</td>\n",
       "      <td>399095</td>\n",
       "      <td>USD</td>\n",
       "      <td>EX</td>\n",
       "      <td>PT</td>\n",
       "      <td>Switzerland</td>\n",
       "      <td>L</td>\n",
       "      <td>Switzerland</td>\n",
       "      <td>0</td>\n",
       "      <td>Linux, Python, TensorFlow</td>\n",
       "      <td>Master</td>\n",
       "      <td>10</td>\n",
       "      <td>Retail</td>\n",
       "      <td>2024-07-10</td>\n",
       "      <td>2024-09-02</td>\n",
       "      <td>2277</td>\n",
       "      <td>9.7</td>\n",
       "      <td>TechCorp Inc</td>\n",
       "    </tr>\n",
       "    <tr>\n",
       "      <th>10468</th>\n",
       "      <td>AI10469</td>\n",
       "      <td>AI Product Manager</td>\n",
       "      <td>381575</td>\n",
       "      <td>USD</td>\n",
       "      <td>EX</td>\n",
       "      <td>PT</td>\n",
       "      <td>Switzerland</td>\n",
       "      <td>L</td>\n",
       "      <td>Denmark</td>\n",
       "      <td>50</td>\n",
       "      <td>Python, Git, Data Visualization, Spark, Comput...</td>\n",
       "      <td>Associate</td>\n",
       "      <td>10</td>\n",
       "      <td>Energy</td>\n",
       "      <td>2024-03-27</td>\n",
       "      <td>2024-05-28</td>\n",
       "      <td>1570</td>\n",
       "      <td>9.7</td>\n",
       "      <td>Neural Networks Co</td>\n",
       "    </tr>\n",
       "    <tr>\n",
       "      <th>12499</th>\n",
       "      <td>AI12500</td>\n",
       "      <td>AI Research Scientist</td>\n",
       "      <td>394917</td>\n",
       "      <td>USD</td>\n",
       "      <td>EX</td>\n",
       "      <td>CT</td>\n",
       "      <td>Switzerland</td>\n",
       "      <td>L</td>\n",
       "      <td>Switzerland</td>\n",
       "      <td>50</td>\n",
       "      <td>Scala, PyTorch, Spark, Docker, Git</td>\n",
       "      <td>Master</td>\n",
       "      <td>12</td>\n",
       "      <td>Real Estate</td>\n",
       "      <td>2024-06-04</td>\n",
       "      <td>2024-08-13</td>\n",
       "      <td>1310</td>\n",
       "      <td>6.6</td>\n",
       "      <td>Machine Intelligence Group</td>\n",
       "    </tr>\n",
       "    <tr>\n",
       "      <th>12803</th>\n",
       "      <td>AI12804</td>\n",
       "      <td>AI Specialist</td>\n",
       "      <td>390292</td>\n",
       "      <td>USD</td>\n",
       "      <td>EX</td>\n",
       "      <td>FT</td>\n",
       "      <td>Switzerland</td>\n",
       "      <td>L</td>\n",
       "      <td>Switzerland</td>\n",
       "      <td>50</td>\n",
       "      <td>Java, SQL, PyTorch, Statistics, TensorFlow</td>\n",
       "      <td>Associate</td>\n",
       "      <td>11</td>\n",
       "      <td>Real Estate</td>\n",
       "      <td>2024-12-27</td>\n",
       "      <td>2025-01-24</td>\n",
       "      <td>1900</td>\n",
       "      <td>7.5</td>\n",
       "      <td>DataVision Ltd</td>\n",
       "    </tr>\n",
       "  </tbody>\n",
       "</table>\n",
       "</div>"
      ],
      "text/plain": [
       "        job_id                    job_title  salary_usd salary_currency  \\\n",
       "317    AI00318               Data Scientist      388754             USD   \n",
       "2309   AI02310                 AI Architect      398084             USD   \n",
       "5483   AI05484                 AI Architect      383142             USD   \n",
       "9891   AI09892  Machine Learning Researcher      399095             USD   \n",
       "10468  AI10469           AI Product Manager      381575             USD   \n",
       "12499  AI12500        AI Research Scientist      394917             USD   \n",
       "12803  AI12804                AI Specialist      390292             USD   \n",
       "\n",
       "      experience_level employment_type company_location company_size  \\\n",
       "317                 EX              CT      Switzerland            L   \n",
       "2309                EX              CT      Switzerland            L   \n",
       "5483                EX              PT      Switzerland            L   \n",
       "9891                EX              PT      Switzerland            L   \n",
       "10468               EX              PT      Switzerland            L   \n",
       "12499               EX              CT      Switzerland            L   \n",
       "12803               EX              FT      Switzerland            L   \n",
       "\n",
       "      employee_residence  remote_ratio  \\\n",
       "317        United States             0   \n",
       "2309         Switzerland           100   \n",
       "5483         Switzerland            50   \n",
       "9891         Switzerland             0   \n",
       "10468            Denmark            50   \n",
       "12499        Switzerland            50   \n",
       "12803        Switzerland            50   \n",
       "\n",
       "                                         required_skills education_required  \\\n",
       "317                          Docker, Python, Mathematics             Master   \n",
       "2309                  Python, Linux, Tableau, TensorFlow          Associate   \n",
       "5483                     Git, Python, Hadoop, TensorFlow             Master   \n",
       "9891                           Linux, Python, TensorFlow             Master   \n",
       "10468  Python, Git, Data Visualization, Spark, Comput...          Associate   \n",
       "12499                 Scala, PyTorch, Spark, Docker, Git             Master   \n",
       "12803         Java, SQL, PyTorch, Statistics, TensorFlow          Associate   \n",
       "\n",
       "       years_experience        industry posting_date application_deadline  \\\n",
       "317                  16  Transportation   2024-06-20           2024-08-11   \n",
       "2309                 15      Automotive   2024-12-30           2025-02-20   \n",
       "5483                 12      Technology   2025-01-13           2025-01-27   \n",
       "9891                 10          Retail   2024-07-10           2024-09-02   \n",
       "10468                10          Energy   2024-03-27           2024-05-28   \n",
       "12499                12     Real Estate   2024-06-04           2024-08-13   \n",
       "12803                11     Real Estate   2024-12-27           2025-01-24   \n",
       "\n",
       "       job_description_length  benefits_score                company_name  \n",
       "317                       829             8.6           DeepTech Ventures  \n",
       "2309                     1979            10.0              Future Systems  \n",
       "5483                     1463             9.2              Future Systems  \n",
       "9891                     2277             9.7                TechCorp Inc  \n",
       "10468                    1570             9.7          Neural Networks Co  \n",
       "12499                    1310             6.6  Machine Intelligence Group  \n",
       "12803                    1900             7.5              DataVision Ltd  "
      ]
     },
     "execution_count": 66,
     "metadata": {},
     "output_type": "execute_result"
    }
   ],
   "source": [
    "us_highes_paid"
   ]
  },
  {
   "cell_type": "code",
   "execution_count": 67,
   "id": "98029b26",
   "metadata": {},
   "outputs": [
    {
     "data": {
      "text/plain": [
       "job_id                    0\n",
       "job_title                 0\n",
       "salary_usd                0\n",
       "salary_currency           0\n",
       "experience_level          0\n",
       "employment_type           0\n",
       "company_location          0\n",
       "company_size              0\n",
       "employee_residence        0\n",
       "remote_ratio              0\n",
       "required_skills           0\n",
       "education_required        0\n",
       "years_experience          0\n",
       "industry                  0\n",
       "posting_date              0\n",
       "application_deadline      0\n",
       "job_description_length    0\n",
       "benefits_score            0\n",
       "company_name              0\n",
       "dtype: int64"
      ]
     },
     "execution_count": 67,
     "metadata": {},
     "output_type": "execute_result"
    }
   ],
   "source": [
    "df.isna().sum()"
   ]
  },
  {
   "cell_type": "code",
   "execution_count": 68,
   "id": "0f3ca927",
   "metadata": {},
   "outputs": [
    {
     "name": "stderr",
     "output_type": "stream",
     "text": [
      "C:\\Users\\mypc\\AppData\\Local\\Temp\\ipykernel_11084\\176212075.py:1: FutureWarning: A value is trying to be set on a copy of a DataFrame or Series through chained assignment using an inplace method.\n",
      "The behavior will change in pandas 3.0. This inplace method will never work because the intermediate object on which we are setting values always behaves as a copy.\n",
      "\n",
      "For example, when doing 'df[col].method(value, inplace=True)', try using 'df.method({col: value}, inplace=True)' or df[col] = df[col].method(value) instead, to perform the operation inplace on the original object.\n",
      "\n",
      "\n",
      "  df['salary_usd'].fillna(df['salary_usd'].mean(), inplace=True)#fill missing walues\n"
     ]
    }
   ],
   "source": [
    "df['salary_usd'].fillna(df['salary_usd'].mean(), inplace=True)#fill missing walues "
   ]
  },
  {
   "cell_type": "code",
   "execution_count": 69,
   "id": "fa9f71e0",
   "metadata": {},
   "outputs": [
    {
     "data": {
      "text/html": [
       "<div>\n",
       "<style scoped>\n",
       "    .dataframe tbody tr th:only-of-type {\n",
       "        vertical-align: middle;\n",
       "    }\n",
       "\n",
       "    .dataframe tbody tr th {\n",
       "        vertical-align: top;\n",
       "    }\n",
       "\n",
       "    .dataframe thead th {\n",
       "        text-align: right;\n",
       "    }\n",
       "</style>\n",
       "<table border=\"1\" class=\"dataframe\">\n",
       "  <thead>\n",
       "    <tr style=\"text-align: right;\">\n",
       "      <th></th>\n",
       "      <th>job_id</th>\n",
       "      <th>job_title</th>\n",
       "      <th>salary_usd</th>\n",
       "      <th>salary_currency</th>\n",
       "      <th>experience_level</th>\n",
       "      <th>employment_type</th>\n",
       "      <th>company_location</th>\n",
       "      <th>company_size</th>\n",
       "      <th>employee_residence</th>\n",
       "      <th>remote_ratio</th>\n",
       "      <th>required_skills</th>\n",
       "      <th>education_required</th>\n",
       "      <th>years_experience</th>\n",
       "      <th>industry</th>\n",
       "      <th>posting_date</th>\n",
       "      <th>application_deadline</th>\n",
       "      <th>job_description_length</th>\n",
       "      <th>benefits_score</th>\n",
       "      <th>company_name</th>\n",
       "    </tr>\n",
       "  </thead>\n",
       "  <tbody>\n",
       "    <tr>\n",
       "      <th>0</th>\n",
       "      <td>AI00001</td>\n",
       "      <td>AI Research Scientist</td>\n",
       "      <td>90376</td>\n",
       "      <td>USD</td>\n",
       "      <td>SE</td>\n",
       "      <td>CT</td>\n",
       "      <td>China</td>\n",
       "      <td>M</td>\n",
       "      <td>China</td>\n",
       "      <td>50</td>\n",
       "      <td>Tableau, PyTorch, Kubernetes, Linux, NLP</td>\n",
       "      <td>Bachelor</td>\n",
       "      <td>9</td>\n",
       "      <td>Automotive</td>\n",
       "      <td>2024-10-18</td>\n",
       "      <td>2024-11-07</td>\n",
       "      <td>1076</td>\n",
       "      <td>5.9</td>\n",
       "      <td>Smart Analytics</td>\n",
       "    </tr>\n",
       "    <tr>\n",
       "      <th>1</th>\n",
       "      <td>AI00002</td>\n",
       "      <td>AI Software Engineer</td>\n",
       "      <td>61895</td>\n",
       "      <td>USD</td>\n",
       "      <td>EN</td>\n",
       "      <td>CT</td>\n",
       "      <td>Canada</td>\n",
       "      <td>M</td>\n",
       "      <td>Ireland</td>\n",
       "      <td>100</td>\n",
       "      <td>Deep Learning, AWS, Mathematics, Python, Docker</td>\n",
       "      <td>Master</td>\n",
       "      <td>1</td>\n",
       "      <td>Media</td>\n",
       "      <td>2024-11-20</td>\n",
       "      <td>2025-01-11</td>\n",
       "      <td>1268</td>\n",
       "      <td>5.2</td>\n",
       "      <td>TechCorp Inc</td>\n",
       "    </tr>\n",
       "    <tr>\n",
       "      <th>2</th>\n",
       "      <td>AI00003</td>\n",
       "      <td>AI Specialist</td>\n",
       "      <td>152626</td>\n",
       "      <td>USD</td>\n",
       "      <td>MI</td>\n",
       "      <td>FL</td>\n",
       "      <td>Switzerland</td>\n",
       "      <td>L</td>\n",
       "      <td>South Korea</td>\n",
       "      <td>0</td>\n",
       "      <td>Kubernetes, Deep Learning, Java, Hadoop, NLP</td>\n",
       "      <td>Associate</td>\n",
       "      <td>2</td>\n",
       "      <td>Education</td>\n",
       "      <td>2025-03-18</td>\n",
       "      <td>2025-04-07</td>\n",
       "      <td>1974</td>\n",
       "      <td>9.4</td>\n",
       "      <td>Autonomous Tech</td>\n",
       "    </tr>\n",
       "    <tr>\n",
       "      <th>3</th>\n",
       "      <td>AI00004</td>\n",
       "      <td>NLP Engineer</td>\n",
       "      <td>80215</td>\n",
       "      <td>USD</td>\n",
       "      <td>SE</td>\n",
       "      <td>FL</td>\n",
       "      <td>India</td>\n",
       "      <td>M</td>\n",
       "      <td>India</td>\n",
       "      <td>50</td>\n",
       "      <td>Scala, SQL, Linux, Python</td>\n",
       "      <td>PhD</td>\n",
       "      <td>7</td>\n",
       "      <td>Consulting</td>\n",
       "      <td>2024-12-23</td>\n",
       "      <td>2025-02-24</td>\n",
       "      <td>1345</td>\n",
       "      <td>8.6</td>\n",
       "      <td>Future Systems</td>\n",
       "    </tr>\n",
       "    <tr>\n",
       "      <th>4</th>\n",
       "      <td>AI00005</td>\n",
       "      <td>AI Consultant</td>\n",
       "      <td>54624</td>\n",
       "      <td>EUR</td>\n",
       "      <td>EN</td>\n",
       "      <td>PT</td>\n",
       "      <td>France</td>\n",
       "      <td>S</td>\n",
       "      <td>Singapore</td>\n",
       "      <td>100</td>\n",
       "      <td>MLOps, Java, Tableau, Python</td>\n",
       "      <td>Master</td>\n",
       "      <td>0</td>\n",
       "      <td>Media</td>\n",
       "      <td>2025-04-15</td>\n",
       "      <td>2025-06-23</td>\n",
       "      <td>1989</td>\n",
       "      <td>6.6</td>\n",
       "      <td>Advanced Robotics</td>\n",
       "    </tr>\n",
       "    <tr>\n",
       "      <th>...</th>\n",
       "      <td>...</td>\n",
       "      <td>...</td>\n",
       "      <td>...</td>\n",
       "      <td>...</td>\n",
       "      <td>...</td>\n",
       "      <td>...</td>\n",
       "      <td>...</td>\n",
       "      <td>...</td>\n",
       "      <td>...</td>\n",
       "      <td>...</td>\n",
       "      <td>...</td>\n",
       "      <td>...</td>\n",
       "      <td>...</td>\n",
       "      <td>...</td>\n",
       "      <td>...</td>\n",
       "      <td>...</td>\n",
       "      <td>...</td>\n",
       "      <td>...</td>\n",
       "      <td>...</td>\n",
       "    </tr>\n",
       "    <tr>\n",
       "      <th>14995</th>\n",
       "      <td>AI14996</td>\n",
       "      <td>Robotics Engineer</td>\n",
       "      <td>38604</td>\n",
       "      <td>USD</td>\n",
       "      <td>EN</td>\n",
       "      <td>FL</td>\n",
       "      <td>Finland</td>\n",
       "      <td>S</td>\n",
       "      <td>Finland</td>\n",
       "      <td>50</td>\n",
       "      <td>Java, Kubernetes, Azure</td>\n",
       "      <td>Bachelor</td>\n",
       "      <td>1</td>\n",
       "      <td>Energy</td>\n",
       "      <td>2025-02-06</td>\n",
       "      <td>2025-03-25</td>\n",
       "      <td>1635</td>\n",
       "      <td>7.9</td>\n",
       "      <td>Advanced Robotics</td>\n",
       "    </tr>\n",
       "    <tr>\n",
       "      <th>14996</th>\n",
       "      <td>AI14997</td>\n",
       "      <td>Machine Learning Researcher</td>\n",
       "      <td>57811</td>\n",
       "      <td>GBP</td>\n",
       "      <td>EN</td>\n",
       "      <td>CT</td>\n",
       "      <td>United Kingdom</td>\n",
       "      <td>M</td>\n",
       "      <td>United Kingdom</td>\n",
       "      <td>0</td>\n",
       "      <td>Mathematics, Docker, SQL, Deep Learning</td>\n",
       "      <td>Master</td>\n",
       "      <td>0</td>\n",
       "      <td>Government</td>\n",
       "      <td>2024-10-16</td>\n",
       "      <td>2024-10-30</td>\n",
       "      <td>1624</td>\n",
       "      <td>8.2</td>\n",
       "      <td>Smart Analytics</td>\n",
       "    </tr>\n",
       "    <tr>\n",
       "      <th>14997</th>\n",
       "      <td>AI14998</td>\n",
       "      <td>NLP Engineer</td>\n",
       "      <td>189490</td>\n",
       "      <td>USD</td>\n",
       "      <td>EX</td>\n",
       "      <td>CT</td>\n",
       "      <td>South Korea</td>\n",
       "      <td>L</td>\n",
       "      <td>South Korea</td>\n",
       "      <td>50</td>\n",
       "      <td>Scala, Spark, NLP</td>\n",
       "      <td>Associate</td>\n",
       "      <td>17</td>\n",
       "      <td>Manufacturing</td>\n",
       "      <td>2024-03-19</td>\n",
       "      <td>2024-05-02</td>\n",
       "      <td>1336</td>\n",
       "      <td>7.4</td>\n",
       "      <td>AI Innovations</td>\n",
       "    </tr>\n",
       "    <tr>\n",
       "      <th>14998</th>\n",
       "      <td>AI14999</td>\n",
       "      <td>Head of AI</td>\n",
       "      <td>79461</td>\n",
       "      <td>EUR</td>\n",
       "      <td>EN</td>\n",
       "      <td>FT</td>\n",
       "      <td>Netherlands</td>\n",
       "      <td>M</td>\n",
       "      <td>Netherlands</td>\n",
       "      <td>0</td>\n",
       "      <td>Java, Computer Vision, Python, TensorFlow</td>\n",
       "      <td>PhD</td>\n",
       "      <td>1</td>\n",
       "      <td>Real Estate</td>\n",
       "      <td>2024-03-22</td>\n",
       "      <td>2024-04-23</td>\n",
       "      <td>1935</td>\n",
       "      <td>5.6</td>\n",
       "      <td>Smart Analytics</td>\n",
       "    </tr>\n",
       "    <tr>\n",
       "      <th>14999</th>\n",
       "      <td>AI15000</td>\n",
       "      <td>Computer Vision Engineer</td>\n",
       "      <td>56481</td>\n",
       "      <td>USD</td>\n",
       "      <td>MI</td>\n",
       "      <td>PT</td>\n",
       "      <td>Austria</td>\n",
       "      <td>S</td>\n",
       "      <td>Austria</td>\n",
       "      <td>50</td>\n",
       "      <td>Scala, Azure, Deep Learning, GCP, Mathematics</td>\n",
       "      <td>PhD</td>\n",
       "      <td>2</td>\n",
       "      <td>Technology</td>\n",
       "      <td>2024-07-18</td>\n",
       "      <td>2024-08-10</td>\n",
       "      <td>2492</td>\n",
       "      <td>7.6</td>\n",
       "      <td>AI Innovations</td>\n",
       "    </tr>\n",
       "  </tbody>\n",
       "</table>\n",
       "<p>15000 rows × 19 columns</p>\n",
       "</div>"
      ],
      "text/plain": [
       "        job_id                    job_title  salary_usd salary_currency  \\\n",
       "0      AI00001        AI Research Scientist       90376             USD   \n",
       "1      AI00002         AI Software Engineer       61895             USD   \n",
       "2      AI00003                AI Specialist      152626             USD   \n",
       "3      AI00004                 NLP Engineer       80215             USD   \n",
       "4      AI00005                AI Consultant       54624             EUR   \n",
       "...        ...                          ...         ...             ...   \n",
       "14995  AI14996            Robotics Engineer       38604             USD   \n",
       "14996  AI14997  Machine Learning Researcher       57811             GBP   \n",
       "14997  AI14998                 NLP Engineer      189490             USD   \n",
       "14998  AI14999                   Head of AI       79461             EUR   \n",
       "14999  AI15000     Computer Vision Engineer       56481             USD   \n",
       "\n",
       "      experience_level employment_type company_location company_size  \\\n",
       "0                   SE              CT            China            M   \n",
       "1                   EN              CT           Canada            M   \n",
       "2                   MI              FL      Switzerland            L   \n",
       "3                   SE              FL            India            M   \n",
       "4                   EN              PT           France            S   \n",
       "...                ...             ...              ...          ...   \n",
       "14995               EN              FL          Finland            S   \n",
       "14996               EN              CT   United Kingdom            M   \n",
       "14997               EX              CT      South Korea            L   \n",
       "14998               EN              FT      Netherlands            M   \n",
       "14999               MI              PT          Austria            S   \n",
       "\n",
       "      employee_residence  remote_ratio  \\\n",
       "0                  China            50   \n",
       "1                Ireland           100   \n",
       "2            South Korea             0   \n",
       "3                  India            50   \n",
       "4              Singapore           100   \n",
       "...                  ...           ...   \n",
       "14995            Finland            50   \n",
       "14996     United Kingdom             0   \n",
       "14997        South Korea            50   \n",
       "14998        Netherlands             0   \n",
       "14999            Austria            50   \n",
       "\n",
       "                                       required_skills education_required  \\\n",
       "0             Tableau, PyTorch, Kubernetes, Linux, NLP           Bachelor   \n",
       "1      Deep Learning, AWS, Mathematics, Python, Docker             Master   \n",
       "2         Kubernetes, Deep Learning, Java, Hadoop, NLP          Associate   \n",
       "3                            Scala, SQL, Linux, Python                PhD   \n",
       "4                         MLOps, Java, Tableau, Python             Master   \n",
       "...                                                ...                ...   \n",
       "14995                          Java, Kubernetes, Azure           Bachelor   \n",
       "14996          Mathematics, Docker, SQL, Deep Learning             Master   \n",
       "14997                                Scala, Spark, NLP          Associate   \n",
       "14998        Java, Computer Vision, Python, TensorFlow                PhD   \n",
       "14999    Scala, Azure, Deep Learning, GCP, Mathematics                PhD   \n",
       "\n",
       "       years_experience       industry posting_date application_deadline  \\\n",
       "0                     9     Automotive   2024-10-18           2024-11-07   \n",
       "1                     1          Media   2024-11-20           2025-01-11   \n",
       "2                     2      Education   2025-03-18           2025-04-07   \n",
       "3                     7     Consulting   2024-12-23           2025-02-24   \n",
       "4                     0          Media   2025-04-15           2025-06-23   \n",
       "...                 ...            ...          ...                  ...   \n",
       "14995                 1         Energy   2025-02-06           2025-03-25   \n",
       "14996                 0     Government   2024-10-16           2024-10-30   \n",
       "14997                17  Manufacturing   2024-03-19           2024-05-02   \n",
       "14998                 1    Real Estate   2024-03-22           2024-04-23   \n",
       "14999                 2     Technology   2024-07-18           2024-08-10   \n",
       "\n",
       "       job_description_length  benefits_score       company_name  \n",
       "0                        1076             5.9    Smart Analytics  \n",
       "1                        1268             5.2       TechCorp Inc  \n",
       "2                        1974             9.4    Autonomous Tech  \n",
       "3                        1345             8.6     Future Systems  \n",
       "4                        1989             6.6  Advanced Robotics  \n",
       "...                       ...             ...                ...  \n",
       "14995                    1635             7.9  Advanced Robotics  \n",
       "14996                    1624             8.2    Smart Analytics  \n",
       "14997                    1336             7.4     AI Innovations  \n",
       "14998                    1935             5.6    Smart Analytics  \n",
       "14999                    2492             7.6     AI Innovations  \n",
       "\n",
       "[15000 rows x 19 columns]"
      ]
     },
     "execution_count": 69,
     "metadata": {},
     "output_type": "execute_result"
    }
   ],
   "source": [
    "df.dropna(axis=0, how='any', inplace=False)#it does not modify the original DataFrame; instead, it returns a new one with NaN-rows removed."
   ]
  },
  {
   "cell_type": "code",
   "execution_count": 70,
   "id": "dcd03046",
   "metadata": {},
   "outputs": [
    {
     "data": {
      "text/html": [
       "<div>\n",
       "<style scoped>\n",
       "    .dataframe tbody tr th:only-of-type {\n",
       "        vertical-align: middle;\n",
       "    }\n",
       "\n",
       "    .dataframe tbody tr th {\n",
       "        vertical-align: top;\n",
       "    }\n",
       "\n",
       "    .dataframe thead th {\n",
       "        text-align: right;\n",
       "    }\n",
       "</style>\n",
       "<table border=\"1\" class=\"dataframe\">\n",
       "  <thead>\n",
       "    <tr style=\"text-align: right;\">\n",
       "      <th></th>\n",
       "      <th>job_id</th>\n",
       "      <th>job_title</th>\n",
       "      <th>salary_usd</th>\n",
       "      <th>salary_currency</th>\n",
       "      <th>experience_level</th>\n",
       "      <th>employment_type</th>\n",
       "      <th>company_location</th>\n",
       "      <th>company_size</th>\n",
       "      <th>employee_residence</th>\n",
       "      <th>remote_ratio</th>\n",
       "      <th>required_skills</th>\n",
       "      <th>education_required</th>\n",
       "      <th>years_experience</th>\n",
       "      <th>industry</th>\n",
       "      <th>posting_date</th>\n",
       "      <th>application_deadline</th>\n",
       "      <th>job_description_length</th>\n",
       "      <th>benefits_score</th>\n",
       "      <th>company_name</th>\n",
       "    </tr>\n",
       "  </thead>\n",
       "  <tbody>\n",
       "    <tr>\n",
       "      <th>0</th>\n",
       "      <td>AI00001</td>\n",
       "      <td>AI Research Scientist</td>\n",
       "      <td>90376</td>\n",
       "      <td>USD</td>\n",
       "      <td>SE</td>\n",
       "      <td>CT</td>\n",
       "      <td>China</td>\n",
       "      <td>M</td>\n",
       "      <td>China</td>\n",
       "      <td>50</td>\n",
       "      <td>Tableau, PyTorch, Kubernetes, Linux, NLP</td>\n",
       "      <td>Bachelor</td>\n",
       "      <td>9</td>\n",
       "      <td>Automotive</td>\n",
       "      <td>2024-10-18</td>\n",
       "      <td>2024-11-07</td>\n",
       "      <td>1076</td>\n",
       "      <td>5.9</td>\n",
       "      <td>Smart Analytics</td>\n",
       "    </tr>\n",
       "    <tr>\n",
       "      <th>1</th>\n",
       "      <td>AI00002</td>\n",
       "      <td>AI Software Engineer</td>\n",
       "      <td>61895</td>\n",
       "      <td>USD</td>\n",
       "      <td>EN</td>\n",
       "      <td>CT</td>\n",
       "      <td>Canada</td>\n",
       "      <td>M</td>\n",
       "      <td>Ireland</td>\n",
       "      <td>100</td>\n",
       "      <td>Deep Learning, AWS, Mathematics, Python, Docker</td>\n",
       "      <td>Master</td>\n",
       "      <td>1</td>\n",
       "      <td>Media</td>\n",
       "      <td>2024-11-20</td>\n",
       "      <td>2025-01-11</td>\n",
       "      <td>1268</td>\n",
       "      <td>5.2</td>\n",
       "      <td>TechCorp Inc</td>\n",
       "    </tr>\n",
       "    <tr>\n",
       "      <th>2</th>\n",
       "      <td>AI00003</td>\n",
       "      <td>AI Specialist</td>\n",
       "      <td>152626</td>\n",
       "      <td>USD</td>\n",
       "      <td>MI</td>\n",
       "      <td>FL</td>\n",
       "      <td>Switzerland</td>\n",
       "      <td>L</td>\n",
       "      <td>South Korea</td>\n",
       "      <td>0</td>\n",
       "      <td>Kubernetes, Deep Learning, Java, Hadoop, NLP</td>\n",
       "      <td>Associate</td>\n",
       "      <td>2</td>\n",
       "      <td>Education</td>\n",
       "      <td>2025-03-18</td>\n",
       "      <td>2025-04-07</td>\n",
       "      <td>1974</td>\n",
       "      <td>9.4</td>\n",
       "      <td>Autonomous Tech</td>\n",
       "    </tr>\n",
       "    <tr>\n",
       "      <th>3</th>\n",
       "      <td>AI00004</td>\n",
       "      <td>NLP Engineer</td>\n",
       "      <td>80215</td>\n",
       "      <td>USD</td>\n",
       "      <td>SE</td>\n",
       "      <td>FL</td>\n",
       "      <td>India</td>\n",
       "      <td>M</td>\n",
       "      <td>India</td>\n",
       "      <td>50</td>\n",
       "      <td>Scala, SQL, Linux, Python</td>\n",
       "      <td>PhD</td>\n",
       "      <td>7</td>\n",
       "      <td>Consulting</td>\n",
       "      <td>2024-12-23</td>\n",
       "      <td>2025-02-24</td>\n",
       "      <td>1345</td>\n",
       "      <td>8.6</td>\n",
       "      <td>Future Systems</td>\n",
       "    </tr>\n",
       "    <tr>\n",
       "      <th>4</th>\n",
       "      <td>AI00005</td>\n",
       "      <td>AI Consultant</td>\n",
       "      <td>54624</td>\n",
       "      <td>EUR</td>\n",
       "      <td>EN</td>\n",
       "      <td>PT</td>\n",
       "      <td>France</td>\n",
       "      <td>S</td>\n",
       "      <td>Singapore</td>\n",
       "      <td>100</td>\n",
       "      <td>MLOps, Java, Tableau, Python</td>\n",
       "      <td>Master</td>\n",
       "      <td>0</td>\n",
       "      <td>Media</td>\n",
       "      <td>2025-04-15</td>\n",
       "      <td>2025-06-23</td>\n",
       "      <td>1989</td>\n",
       "      <td>6.6</td>\n",
       "      <td>Advanced Robotics</td>\n",
       "    </tr>\n",
       "    <tr>\n",
       "      <th>...</th>\n",
       "      <td>...</td>\n",
       "      <td>...</td>\n",
       "      <td>...</td>\n",
       "      <td>...</td>\n",
       "      <td>...</td>\n",
       "      <td>...</td>\n",
       "      <td>...</td>\n",
       "      <td>...</td>\n",
       "      <td>...</td>\n",
       "      <td>...</td>\n",
       "      <td>...</td>\n",
       "      <td>...</td>\n",
       "      <td>...</td>\n",
       "      <td>...</td>\n",
       "      <td>...</td>\n",
       "      <td>...</td>\n",
       "      <td>...</td>\n",
       "      <td>...</td>\n",
       "      <td>...</td>\n",
       "    </tr>\n",
       "    <tr>\n",
       "      <th>14995</th>\n",
       "      <td>AI14996</td>\n",
       "      <td>Robotics Engineer</td>\n",
       "      <td>38604</td>\n",
       "      <td>USD</td>\n",
       "      <td>EN</td>\n",
       "      <td>FL</td>\n",
       "      <td>Finland</td>\n",
       "      <td>S</td>\n",
       "      <td>Finland</td>\n",
       "      <td>50</td>\n",
       "      <td>Java, Kubernetes, Azure</td>\n",
       "      <td>Bachelor</td>\n",
       "      <td>1</td>\n",
       "      <td>Energy</td>\n",
       "      <td>2025-02-06</td>\n",
       "      <td>2025-03-25</td>\n",
       "      <td>1635</td>\n",
       "      <td>7.9</td>\n",
       "      <td>Advanced Robotics</td>\n",
       "    </tr>\n",
       "    <tr>\n",
       "      <th>14996</th>\n",
       "      <td>AI14997</td>\n",
       "      <td>Machine Learning Researcher</td>\n",
       "      <td>57811</td>\n",
       "      <td>GBP</td>\n",
       "      <td>EN</td>\n",
       "      <td>CT</td>\n",
       "      <td>United Kingdom</td>\n",
       "      <td>M</td>\n",
       "      <td>United Kingdom</td>\n",
       "      <td>0</td>\n",
       "      <td>Mathematics, Docker, SQL, Deep Learning</td>\n",
       "      <td>Master</td>\n",
       "      <td>0</td>\n",
       "      <td>Government</td>\n",
       "      <td>2024-10-16</td>\n",
       "      <td>2024-10-30</td>\n",
       "      <td>1624</td>\n",
       "      <td>8.2</td>\n",
       "      <td>Smart Analytics</td>\n",
       "    </tr>\n",
       "    <tr>\n",
       "      <th>14997</th>\n",
       "      <td>AI14998</td>\n",
       "      <td>NLP Engineer</td>\n",
       "      <td>189490</td>\n",
       "      <td>USD</td>\n",
       "      <td>EX</td>\n",
       "      <td>CT</td>\n",
       "      <td>South Korea</td>\n",
       "      <td>L</td>\n",
       "      <td>South Korea</td>\n",
       "      <td>50</td>\n",
       "      <td>Scala, Spark, NLP</td>\n",
       "      <td>Associate</td>\n",
       "      <td>17</td>\n",
       "      <td>Manufacturing</td>\n",
       "      <td>2024-03-19</td>\n",
       "      <td>2024-05-02</td>\n",
       "      <td>1336</td>\n",
       "      <td>7.4</td>\n",
       "      <td>AI Innovations</td>\n",
       "    </tr>\n",
       "    <tr>\n",
       "      <th>14998</th>\n",
       "      <td>AI14999</td>\n",
       "      <td>Head of AI</td>\n",
       "      <td>79461</td>\n",
       "      <td>EUR</td>\n",
       "      <td>EN</td>\n",
       "      <td>FT</td>\n",
       "      <td>Netherlands</td>\n",
       "      <td>M</td>\n",
       "      <td>Netherlands</td>\n",
       "      <td>0</td>\n",
       "      <td>Java, Computer Vision, Python, TensorFlow</td>\n",
       "      <td>PhD</td>\n",
       "      <td>1</td>\n",
       "      <td>Real Estate</td>\n",
       "      <td>2024-03-22</td>\n",
       "      <td>2024-04-23</td>\n",
       "      <td>1935</td>\n",
       "      <td>5.6</td>\n",
       "      <td>Smart Analytics</td>\n",
       "    </tr>\n",
       "    <tr>\n",
       "      <th>14999</th>\n",
       "      <td>AI15000</td>\n",
       "      <td>Computer Vision Engineer</td>\n",
       "      <td>56481</td>\n",
       "      <td>USD</td>\n",
       "      <td>MI</td>\n",
       "      <td>PT</td>\n",
       "      <td>Austria</td>\n",
       "      <td>S</td>\n",
       "      <td>Austria</td>\n",
       "      <td>50</td>\n",
       "      <td>Scala, Azure, Deep Learning, GCP, Mathematics</td>\n",
       "      <td>PhD</td>\n",
       "      <td>2</td>\n",
       "      <td>Technology</td>\n",
       "      <td>2024-07-18</td>\n",
       "      <td>2024-08-10</td>\n",
       "      <td>2492</td>\n",
       "      <td>7.6</td>\n",
       "      <td>AI Innovations</td>\n",
       "    </tr>\n",
       "  </tbody>\n",
       "</table>\n",
       "<p>15000 rows × 19 columns</p>\n",
       "</div>"
      ],
      "text/plain": [
       "        job_id                    job_title  salary_usd salary_currency  \\\n",
       "0      AI00001        AI Research Scientist       90376             USD   \n",
       "1      AI00002         AI Software Engineer       61895             USD   \n",
       "2      AI00003                AI Specialist      152626             USD   \n",
       "3      AI00004                 NLP Engineer       80215             USD   \n",
       "4      AI00005                AI Consultant       54624             EUR   \n",
       "...        ...                          ...         ...             ...   \n",
       "14995  AI14996            Robotics Engineer       38604             USD   \n",
       "14996  AI14997  Machine Learning Researcher       57811             GBP   \n",
       "14997  AI14998                 NLP Engineer      189490             USD   \n",
       "14998  AI14999                   Head of AI       79461             EUR   \n",
       "14999  AI15000     Computer Vision Engineer       56481             USD   \n",
       "\n",
       "      experience_level employment_type company_location company_size  \\\n",
       "0                   SE              CT            China            M   \n",
       "1                   EN              CT           Canada            M   \n",
       "2                   MI              FL      Switzerland            L   \n",
       "3                   SE              FL            India            M   \n",
       "4                   EN              PT           France            S   \n",
       "...                ...             ...              ...          ...   \n",
       "14995               EN              FL          Finland            S   \n",
       "14996               EN              CT   United Kingdom            M   \n",
       "14997               EX              CT      South Korea            L   \n",
       "14998               EN              FT      Netherlands            M   \n",
       "14999               MI              PT          Austria            S   \n",
       "\n",
       "      employee_residence  remote_ratio  \\\n",
       "0                  China            50   \n",
       "1                Ireland           100   \n",
       "2            South Korea             0   \n",
       "3                  India            50   \n",
       "4              Singapore           100   \n",
       "...                  ...           ...   \n",
       "14995            Finland            50   \n",
       "14996     United Kingdom             0   \n",
       "14997        South Korea            50   \n",
       "14998        Netherlands             0   \n",
       "14999            Austria            50   \n",
       "\n",
       "                                       required_skills education_required  \\\n",
       "0             Tableau, PyTorch, Kubernetes, Linux, NLP           Bachelor   \n",
       "1      Deep Learning, AWS, Mathematics, Python, Docker             Master   \n",
       "2         Kubernetes, Deep Learning, Java, Hadoop, NLP          Associate   \n",
       "3                            Scala, SQL, Linux, Python                PhD   \n",
       "4                         MLOps, Java, Tableau, Python             Master   \n",
       "...                                                ...                ...   \n",
       "14995                          Java, Kubernetes, Azure           Bachelor   \n",
       "14996          Mathematics, Docker, SQL, Deep Learning             Master   \n",
       "14997                                Scala, Spark, NLP          Associate   \n",
       "14998        Java, Computer Vision, Python, TensorFlow                PhD   \n",
       "14999    Scala, Azure, Deep Learning, GCP, Mathematics                PhD   \n",
       "\n",
       "       years_experience       industry posting_date application_deadline  \\\n",
       "0                     9     Automotive   2024-10-18           2024-11-07   \n",
       "1                     1          Media   2024-11-20           2025-01-11   \n",
       "2                     2      Education   2025-03-18           2025-04-07   \n",
       "3                     7     Consulting   2024-12-23           2025-02-24   \n",
       "4                     0          Media   2025-04-15           2025-06-23   \n",
       "...                 ...            ...          ...                  ...   \n",
       "14995                 1         Energy   2025-02-06           2025-03-25   \n",
       "14996                 0     Government   2024-10-16           2024-10-30   \n",
       "14997                17  Manufacturing   2024-03-19           2024-05-02   \n",
       "14998                 1    Real Estate   2024-03-22           2024-04-23   \n",
       "14999                 2     Technology   2024-07-18           2024-08-10   \n",
       "\n",
       "       job_description_length  benefits_score       company_name  \n",
       "0                        1076             5.9    Smart Analytics  \n",
       "1                        1268             5.2       TechCorp Inc  \n",
       "2                        1974             9.4    Autonomous Tech  \n",
       "3                        1345             8.6     Future Systems  \n",
       "4                        1989             6.6  Advanced Robotics  \n",
       "...                       ...             ...                ...  \n",
       "14995                    1635             7.9  Advanced Robotics  \n",
       "14996                    1624             8.2    Smart Analytics  \n",
       "14997                    1336             7.4     AI Innovations  \n",
       "14998                    1935             5.6    Smart Analytics  \n",
       "14999                    2492             7.6     AI Innovations  \n",
       "\n",
       "[15000 rows x 19 columns]"
      ]
     },
     "execution_count": 70,
     "metadata": {},
     "output_type": "execute_result"
    }
   ],
   "source": [
    "df.drop_duplicates(subset=[\"job_id\", \"job_title\"], keep=\"first\", inplace=False)\n"
   ]
  },
  {
   "cell_type": "code",
   "execution_count": 71,
   "id": "8084560c",
   "metadata": {},
   "outputs": [],
   "source": [
    "df['salary_currency']=df['salary_currency'] .astype('category')"
   ]
  },
  {
   "cell_type": "code",
   "execution_count": 72,
   "id": "48dc3170",
   "metadata": {},
   "outputs": [
    {
     "data": {
      "text/plain": [
       "'Data Scientist'"
      ]
     },
     "execution_count": 72,
     "metadata": {},
     "output_type": "execute_result"
    }
   ],
   "source": [
    "df[\"job_title\"] = df[\"job_title\"].str.strip().str.title()\n",
    "job_title\n"
   ]
  },
  {
   "cell_type": "code",
   "execution_count": 73,
   "id": "0a51ac3f",
   "metadata": {},
   "outputs": [
    {
     "data": {
      "text/plain": [
       "'Ai Research Scientist'"
      ]
     },
     "execution_count": 73,
     "metadata": {},
     "output_type": "execute_result"
    }
   ],
   "source": [
    "df.job_title[0]"
   ]
  },
  {
   "cell_type": "code",
   "execution_count": 74,
   "id": "9028e20f",
   "metadata": {},
   "outputs": [
    {
     "name": "stderr",
     "output_type": "stream",
     "text": [
      "c:\\Users\\mypc\\Desktop\\DataScience\\.venv\\Lib\\site-packages\\tqdm\\auto.py:21: TqdmWarning: IProgress not found. Please update jupyter and ipywidgets. See https://ipywidgets.readthedocs.io/en/stable/user_install.html\n",
      "  from .autonotebook import tqdm as notebook_tqdm\n"
     ]
    }
   ],
   "source": [
    "from datasets import load_dataset\n",
    "df=load_dataset('lukebarousse/data_jobs')\n",
    "df=df['train'].to_pandas()"
   ]
  },
  {
   "cell_type": "code",
   "execution_count": 75,
   "id": "16e21c8b",
   "metadata": {},
   "outputs": [
    {
     "name": "stdout",
     "output_type": "stream",
     "text": [
      "<class 'pandas.core.frame.DataFrame'>\n",
      "RangeIndex: 785741 entries, 0 to 785740\n",
      "Data columns (total 17 columns):\n",
      " #   Column                 Non-Null Count   Dtype  \n",
      "---  ------                 --------------   -----  \n",
      " 0   job_title_short        785741 non-null  object \n",
      " 1   job_title              785740 non-null  object \n",
      " 2   job_location           784696 non-null  object \n",
      " 3   job_via                785733 non-null  object \n",
      " 4   job_schedule_type      773074 non-null  object \n",
      " 5   job_work_from_home     785741 non-null  bool   \n",
      " 6   search_location        785741 non-null  object \n",
      " 7   job_posted_date        785741 non-null  object \n",
      " 8   job_no_degree_mention  785741 non-null  bool   \n",
      " 9   job_health_insurance   785741 non-null  bool   \n",
      " 10  job_country            785692 non-null  object \n",
      " 11  salary_rate            33067 non-null   object \n",
      " 12  salary_year_avg        22003 non-null   float64\n",
      " 13  salary_hour_avg        10662 non-null   float64\n",
      " 14  company_name           785723 non-null  object \n",
      " 15  job_skills             668704 non-null  object \n",
      " 16  job_type_skills        668704 non-null  object \n",
      "dtypes: bool(3), float64(2), object(12)\n",
      "memory usage: 86.2+ MB\n"
     ]
    }
   ],
   "source": [
    "df.info()"
   ]
  },
  {
   "cell_type": "code",
   "execution_count": 76,
   "id": "fd8f8fe7",
   "metadata": {},
   "outputs": [
    {
     "data": {
      "text/html": [
       "<div>\n",
       "<style scoped>\n",
       "    .dataframe tbody tr th:only-of-type {\n",
       "        vertical-align: middle;\n",
       "    }\n",
       "\n",
       "    .dataframe tbody tr th {\n",
       "        vertical-align: top;\n",
       "    }\n",
       "\n",
       "    .dataframe thead th {\n",
       "        text-align: right;\n",
       "    }\n",
       "</style>\n",
       "<table border=\"1\" class=\"dataframe\">\n",
       "  <thead>\n",
       "    <tr style=\"text-align: right;\">\n",
       "      <th></th>\n",
       "      <th>job_title</th>\n",
       "      <th>job_location</th>\n",
       "      <th>job_via</th>\n",
       "    </tr>\n",
       "  </thead>\n",
       "  <tbody>\n",
       "    <tr>\n",
       "      <th>20</th>\n",
       "      <td>Data Scientist</td>\n",
       "      <td>Zaventem, Belgium</td>\n",
       "      <td>via BeBee Belgique</td>\n",
       "    </tr>\n",
       "    <tr>\n",
       "      <th>21</th>\n",
       "      <td>Stage - data scientist – génération ia de donn...</td>\n",
       "      <td>Asnières-sur-Seine, France</td>\n",
       "      <td>via Jobijoba</td>\n",
       "    </tr>\n",
       "    <tr>\n",
       "      <th>22</th>\n",
       "      <td>Data Engineer / Développeur·euse Big Data F/H</td>\n",
       "      <td>Nantes, France</td>\n",
       "      <td>via LinkedIn</td>\n",
       "    </tr>\n",
       "    <tr>\n",
       "      <th>23</th>\n",
       "      <td>PhD position in computer science (NLP, finance)</td>\n",
       "      <td>Russia</td>\n",
       "      <td>via hh.ru</td>\n",
       "    </tr>\n",
       "    <tr>\n",
       "      <th>24</th>\n",
       "      <td>Data Scientist (DataLab Team)</td>\n",
       "      <td>Anywhere</td>\n",
       "      <td>via LinkedIn</td>\n",
       "    </tr>\n",
       "    <tr>\n",
       "      <th>25</th>\n",
       "      <td>Senior Officer, Data Analyst, GTO</td>\n",
       "      <td>Singapore</td>\n",
       "      <td>via BeBee Singapore</td>\n",
       "    </tr>\n",
       "    <tr>\n",
       "      <th>26</th>\n",
       "      <td>Data Engineer</td>\n",
       "      <td>United States</td>\n",
       "      <td>via LinkedIn</td>\n",
       "    </tr>\n",
       "    <tr>\n",
       "      <th>27</th>\n",
       "      <td>Principal Data Engineer (Lead), Knowledge Grap...</td>\n",
       "      <td>San Francisco, CA</td>\n",
       "      <td>via LinkedIn</td>\n",
       "    </tr>\n",
       "    <tr>\n",
       "      <th>28</th>\n",
       "      <td>CRM Data Specialist</td>\n",
       "      <td>San José Province, San José, Costa Rica</td>\n",
       "      <td>via Ai-Jobs.net</td>\n",
       "    </tr>\n",
       "    <tr>\n",
       "      <th>29</th>\n",
       "      <td>Data Scientist</td>\n",
       "      <td>Pune, Maharashtra, India</td>\n",
       "      <td>via Exusia</td>\n",
       "    </tr>\n",
       "  </tbody>\n",
       "</table>\n",
       "</div>"
      ],
      "text/plain": [
       "                                            job_title  \\\n",
       "20                                     Data Scientist   \n",
       "21  Stage - data scientist – génération ia de donn...   \n",
       "22      Data Engineer / Développeur·euse Big Data F/H   \n",
       "23    PhD position in computer science (NLP, finance)   \n",
       "24                      Data Scientist (DataLab Team)   \n",
       "25                  Senior Officer, Data Analyst, GTO   \n",
       "26                                      Data Engineer   \n",
       "27  Principal Data Engineer (Lead), Knowledge Grap...   \n",
       "28                                CRM Data Specialist   \n",
       "29                                     Data Scientist   \n",
       "\n",
       "                               job_location              job_via  \n",
       "20                        Zaventem, Belgium   via BeBee Belgique  \n",
       "21               Asnières-sur-Seine, France         via Jobijoba  \n",
       "22                           Nantes, France         via LinkedIn  \n",
       "23                                   Russia            via hh.ru  \n",
       "24                                 Anywhere         via LinkedIn  \n",
       "25                                Singapore  via BeBee Singapore  \n",
       "26                            United States         via LinkedIn  \n",
       "27                        San Francisco, CA         via LinkedIn  \n",
       "28  San José Province, San José, Costa Rica      via Ai-Jobs.net  \n",
       "29                 Pune, Maharashtra, India           via Exusia  "
      ]
     },
     "execution_count": 76,
     "metadata": {},
     "output_type": "execute_result"
    }
   ],
   "source": [
    "df.iloc[20:30, 1:4]"
   ]
  },
  {
   "cell_type": "code",
   "execution_count": 77,
   "id": "c0253210",
   "metadata": {},
   "outputs": [],
   "source": [
    "df['job_posted_date']=pd.to_datetime(df['job_posted_date'])\n"
   ]
  },
  {
   "cell_type": "code",
   "execution_count": 78,
   "id": "82183831",
   "metadata": {},
   "outputs": [
    {
     "data": {
      "text/html": [
       "<div>\n",
       "<style scoped>\n",
       "    .dataframe tbody tr th:only-of-type {\n",
       "        vertical-align: middle;\n",
       "    }\n",
       "\n",
       "    .dataframe tbody tr th {\n",
       "        vertical-align: top;\n",
       "    }\n",
       "\n",
       "    .dataframe thead th {\n",
       "        text-align: right;\n",
       "    }\n",
       "</style>\n",
       "<table border=\"1\" class=\"dataframe\">\n",
       "  <thead>\n",
       "    <tr style=\"text-align: right;\">\n",
       "      <th></th>\n",
       "      <th>job_posted_date</th>\n",
       "      <th>salary_year_avg</th>\n",
       "      <th>salary_hour_avg</th>\n",
       "    </tr>\n",
       "  </thead>\n",
       "  <tbody>\n",
       "    <tr>\n",
       "      <th>count</th>\n",
       "      <td>785741</td>\n",
       "      <td>22003.000000</td>\n",
       "      <td>10662.000000</td>\n",
       "    </tr>\n",
       "    <tr>\n",
       "      <th>mean</th>\n",
       "      <td>2023-06-25 16:02:11.860248576</td>\n",
       "      <td>123286.274072</td>\n",
       "      <td>47.016598</td>\n",
       "    </tr>\n",
       "    <tr>\n",
       "      <th>min</th>\n",
       "      <td>2023-01-01 00:00:04</td>\n",
       "      <td>15000.000000</td>\n",
       "      <td>8.000000</td>\n",
       "    </tr>\n",
       "    <tr>\n",
       "      <th>25%</th>\n",
       "      <td>2023-03-20 10:05:48</td>\n",
       "      <td>90000.000000</td>\n",
       "      <td>27.500000</td>\n",
       "    </tr>\n",
       "    <tr>\n",
       "      <th>50%</th>\n",
       "      <td>2023-06-29 06:11:38</td>\n",
       "      <td>115000.000000</td>\n",
       "      <td>45.980000</td>\n",
       "    </tr>\n",
       "    <tr>\n",
       "      <th>75%</th>\n",
       "      <td>2023-09-27 01:01:16</td>\n",
       "      <td>150000.000000</td>\n",
       "      <td>61.159996</td>\n",
       "    </tr>\n",
       "    <tr>\n",
       "      <th>max</th>\n",
       "      <td>2023-12-31 23:59:58</td>\n",
       "      <td>960000.000000</td>\n",
       "      <td>391.000000</td>\n",
       "    </tr>\n",
       "    <tr>\n",
       "      <th>std</th>\n",
       "      <td>NaN</td>\n",
       "      <td>48312.449482</td>\n",
       "      <td>21.890738</td>\n",
       "    </tr>\n",
       "  </tbody>\n",
       "</table>\n",
       "</div>"
      ],
      "text/plain": [
       "                     job_posted_date  salary_year_avg  salary_hour_avg\n",
       "count                         785741     22003.000000     10662.000000\n",
       "mean   2023-06-25 16:02:11.860248576    123286.274072        47.016598\n",
       "min              2023-01-01 00:00:04     15000.000000         8.000000\n",
       "25%              2023-03-20 10:05:48     90000.000000        27.500000\n",
       "50%              2023-06-29 06:11:38    115000.000000        45.980000\n",
       "75%              2023-09-27 01:01:16    150000.000000        61.159996\n",
       "max              2023-12-31 23:59:58    960000.000000       391.000000\n",
       "std                              NaN     48312.449482        21.890738"
      ]
     },
     "execution_count": 78,
     "metadata": {},
     "output_type": "execute_result"
    }
   ],
   "source": [
    "df.describe()"
   ]
  },
  {
   "cell_type": "code",
   "execution_count": 79,
   "id": "8adb5b2c",
   "metadata": {},
   "outputs": [
    {
     "data": {
      "text/plain": [
       "job_title_short\n",
       "Data Analyst                 196075\n",
       "Data Engineer                186241\n",
       "Data Scientist               172286\n",
       "Business Analyst              49063\n",
       "Software Engineer             44929\n",
       "Senior Data Engineer          44563\n",
       "Senior Data Scientist         36957\n",
       "Senior Data Analyst           29216\n",
       "Machine Learning Engineer     14080\n",
       "Cloud Engineer                12331\n",
       "Name: count, dtype: int64"
      ]
     },
     "execution_count": 79,
     "metadata": {},
     "output_type": "execute_result"
    }
   ],
   "source": [
    "df['job_title_short'].value_counts()"
   ]
  },
  {
   "cell_type": "code",
   "execution_count": 89,
   "id": "425f7bbd",
   "metadata": {},
   "outputs": [
    {
     "data": {
      "text/plain": [
       "job_title_short    job_country\n",
       "Business Analyst   Afghanistan        NaN\n",
       "                   Albania            NaN\n",
       "                   Algeria            NaN\n",
       "                   Angola             NaN\n",
       "                   Argentina      71100.0\n",
       "                                   ...   \n",
       "Software Engineer  Venezuela          NaN\n",
       "                   Vietnam        53600.0\n",
       "                   Yemen              NaN\n",
       "                   Zambia             NaN\n",
       "                   Zimbabwe           NaN\n",
       "Name: salary_year_avg, Length: 1387, dtype: float64"
      ]
     },
     "execution_count": 89,
     "metadata": {},
     "output_type": "execute_result"
    }
   ],
   "source": [
    "df.groupby(['job_title_short','job_country'])['salary_year_avg'].median()"
   ]
  },
  {
   "cell_type": "code",
   "execution_count": 91,
   "id": "6dbbc8fa",
   "metadata": {},
   "outputs": [
    {
     "data": {
      "text/html": [
       "<div>\n",
       "<style scoped>\n",
       "    .dataframe tbody tr th:only-of-type {\n",
       "        vertical-align: middle;\n",
       "    }\n",
       "\n",
       "    .dataframe tbody tr th {\n",
       "        vertical-align: top;\n",
       "    }\n",
       "\n",
       "    .dataframe thead th {\n",
       "        text-align: right;\n",
       "    }\n",
       "</style>\n",
       "<table border=\"1\" class=\"dataframe\">\n",
       "  <thead>\n",
       "    <tr style=\"text-align: right;\">\n",
       "      <th></th>\n",
       "      <th>salary_year_avg</th>\n",
       "      <th>salary_hour_avg</th>\n",
       "    </tr>\n",
       "    <tr>\n",
       "      <th>job_title_short</th>\n",
       "      <th></th>\n",
       "      <th></th>\n",
       "    </tr>\n",
       "  </thead>\n",
       "  <tbody>\n",
       "    <tr>\n",
       "      <th>Business Analyst</th>\n",
       "      <td>85000.0</td>\n",
       "      <td>40.362499</td>\n",
       "    </tr>\n",
       "    <tr>\n",
       "      <th>Cloud Engineer</th>\n",
       "      <td>90000.0</td>\n",
       "      <td>40.000000</td>\n",
       "    </tr>\n",
       "    <tr>\n",
       "      <th>Data Analyst</th>\n",
       "      <td>90000.0</td>\n",
       "      <td>32.615002</td>\n",
       "    </tr>\n",
       "    <tr>\n",
       "      <th>Data Engineer</th>\n",
       "      <td>125000.0</td>\n",
       "      <td>58.500000</td>\n",
       "    </tr>\n",
       "    <tr>\n",
       "      <th>Data Scientist</th>\n",
       "      <td>127500.0</td>\n",
       "      <td>47.500000</td>\n",
       "    </tr>\n",
       "    <tr>\n",
       "      <th>Machine Learning Engineer</th>\n",
       "      <td>106415.0</td>\n",
       "      <td>47.535000</td>\n",
       "    </tr>\n",
       "    <tr>\n",
       "      <th>Senior Data Analyst</th>\n",
       "      <td>111175.0</td>\n",
       "      <td>47.500000</td>\n",
       "    </tr>\n",
       "    <tr>\n",
       "      <th>Senior Data Engineer</th>\n",
       "      <td>147500.0</td>\n",
       "      <td>61.500000</td>\n",
       "    </tr>\n",
       "    <tr>\n",
       "      <th>Senior Data Scientist</th>\n",
       "      <td>155500.0</td>\n",
       "      <td>47.620003</td>\n",
       "    </tr>\n",
       "    <tr>\n",
       "      <th>Software Engineer</th>\n",
       "      <td>99150.0</td>\n",
       "      <td>47.560001</td>\n",
       "    </tr>\n",
       "  </tbody>\n",
       "</table>\n",
       "</div>"
      ],
      "text/plain": [
       "                           salary_year_avg  salary_hour_avg\n",
       "job_title_short                                            \n",
       "Business Analyst                   85000.0        40.362499\n",
       "Cloud Engineer                     90000.0        40.000000\n",
       "Data Analyst                       90000.0        32.615002\n",
       "Data Engineer                     125000.0        58.500000\n",
       "Data Scientist                    127500.0        47.500000\n",
       "Machine Learning Engineer         106415.0        47.535000\n",
       "Senior Data Analyst               111175.0        47.500000\n",
       "Senior Data Engineer              147500.0        61.500000\n",
       "Senior Data Scientist             155500.0        47.620003\n",
       "Software Engineer                  99150.0        47.560001"
      ]
     },
     "execution_count": 91,
     "metadata": {},
     "output_type": "execute_result"
    }
   ],
   "source": [
    "df.groupby('job_title_short')[['salary_year_avg','salary_hour_avg']].median()"
   ]
  },
  {
   "cell_type": "code",
   "execution_count": 93,
   "id": "68db7df1",
   "metadata": {},
   "outputs": [
    {
     "data": {
      "text/html": [
       "<div>\n",
       "<style scoped>\n",
       "    .dataframe tbody tr th:only-of-type {\n",
       "        vertical-align: middle;\n",
       "    }\n",
       "\n",
       "    .dataframe tbody tr th {\n",
       "        vertical-align: top;\n",
       "    }\n",
       "\n",
       "    .dataframe thead th {\n",
       "        text-align: right;\n",
       "    }\n",
       "</style>\n",
       "<table border=\"1\" class=\"dataframe\">\n",
       "  <thead>\n",
       "    <tr style=\"text-align: right;\">\n",
       "      <th></th>\n",
       "      <th>mean</th>\n",
       "      <th>median</th>\n",
       "      <th>min</th>\n",
       "      <th>max</th>\n",
       "    </tr>\n",
       "    <tr>\n",
       "      <th>job_title_short</th>\n",
       "      <th></th>\n",
       "      <th></th>\n",
       "      <th></th>\n",
       "      <th></th>\n",
       "    </tr>\n",
       "  </thead>\n",
       "  <tbody>\n",
       "    <tr>\n",
       "      <th>Senior Data Scientist</th>\n",
       "      <td>154206.292996</td>\n",
       "      <td>155500.0</td>\n",
       "      <td>45000.0</td>\n",
       "      <td>890000.0</td>\n",
       "    </tr>\n",
       "    <tr>\n",
       "      <th>Senior Data Engineer</th>\n",
       "      <td>145840.611624</td>\n",
       "      <td>147500.0</td>\n",
       "      <td>35000.0</td>\n",
       "      <td>425000.0</td>\n",
       "    </tr>\n",
       "    <tr>\n",
       "      <th>Data Scientist</th>\n",
       "      <td>135988.837171</td>\n",
       "      <td>127500.0</td>\n",
       "      <td>27000.0</td>\n",
       "      <td>960000.0</td>\n",
       "    </tr>\n",
       "    <tr>\n",
       "      <th>Data Engineer</th>\n",
       "      <td>130125.604250</td>\n",
       "      <td>125000.0</td>\n",
       "      <td>15000.0</td>\n",
       "      <td>525000.0</td>\n",
       "    </tr>\n",
       "    <tr>\n",
       "      <th>Senior Data Analyst</th>\n",
       "      <td>113911.363665</td>\n",
       "      <td>111175.0</td>\n",
       "      <td>30000.0</td>\n",
       "      <td>425000.0</td>\n",
       "    </tr>\n",
       "    <tr>\n",
       "      <th>Machine Learning Engineer</th>\n",
       "      <td>126774.315972</td>\n",
       "      <td>106415.0</td>\n",
       "      <td>30000.0</td>\n",
       "      <td>325000.0</td>\n",
       "    </tr>\n",
       "    <tr>\n",
       "      <th>Software Engineer</th>\n",
       "      <td>113393.760054</td>\n",
       "      <td>99150.0</td>\n",
       "      <td>28000.0</td>\n",
       "      <td>375000.0</td>\n",
       "    </tr>\n",
       "    <tr>\n",
       "      <th>Cloud Engineer</th>\n",
       "      <td>111268.453846</td>\n",
       "      <td>90000.0</td>\n",
       "      <td>42000.0</td>\n",
       "      <td>280000.0</td>\n",
       "    </tr>\n",
       "    <tr>\n",
       "      <th>Data Analyst</th>\n",
       "      <td>93841.907854</td>\n",
       "      <td>90000.0</td>\n",
       "      <td>25000.0</td>\n",
       "      <td>650000.0</td>\n",
       "    </tr>\n",
       "    <tr>\n",
       "      <th>Business Analyst</th>\n",
       "      <td>91082.612833</td>\n",
       "      <td>85000.0</td>\n",
       "      <td>16500.0</td>\n",
       "      <td>387460.0</td>\n",
       "    </tr>\n",
       "  </tbody>\n",
       "</table>\n",
       "</div>"
      ],
      "text/plain": [
       "                                    mean    median      min       max\n",
       "job_title_short                                                      \n",
       "Senior Data Scientist      154206.292996  155500.0  45000.0  890000.0\n",
       "Senior Data Engineer       145840.611624  147500.0  35000.0  425000.0\n",
       "Data Scientist             135988.837171  127500.0  27000.0  960000.0\n",
       "Data Engineer              130125.604250  125000.0  15000.0  525000.0\n",
       "Senior Data Analyst        113911.363665  111175.0  30000.0  425000.0\n",
       "Machine Learning Engineer  126774.315972  106415.0  30000.0  325000.0\n",
       "Software Engineer          113393.760054   99150.0  28000.0  375000.0\n",
       "Cloud Engineer             111268.453846   90000.0  42000.0  280000.0\n",
       "Data Analyst                93841.907854   90000.0  25000.0  650000.0\n",
       "Business Analyst            91082.612833   85000.0  16500.0  387460.0"
      ]
     },
     "execution_count": 93,
     "metadata": {},
     "output_type": "execute_result"
    }
   ],
   "source": [
    "df.groupby('job_title_short')['salary_year_avg'].agg(['mean','median','min','max']).sort_values(by='median', ascending=False)"
   ]
  },
  {
   "cell_type": "code",
   "execution_count": null,
   "id": "ddb0b9e0",
   "metadata": {},
   "outputs": [],
   "source": []
  }
 ],
 "metadata": {
  "kernelspec": {
   "display_name": ".venv (3.13.7)",
   "language": "python",
   "name": "python3"
  },
  "language_info": {
   "codemirror_mode": {
    "name": "ipython",
    "version": 3
   },
   "file_extension": ".py",
   "mimetype": "text/x-python",
   "name": "python",
   "nbconvert_exporter": "python",
   "pygments_lexer": "ipython3",
   "version": "3.13.7"
  }
 },
 "nbformat": 4,
 "nbformat_minor": 5
}
