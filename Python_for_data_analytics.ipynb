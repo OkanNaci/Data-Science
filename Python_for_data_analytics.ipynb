{
 "cells": [
  {
   "cell_type": "code",
   "execution_count": 14,
   "id": "7e65d144",
   "metadata": {},
   "outputs": [
    {
     "name": "stdout",
     "output_type": "stream",
     "text": [
      "Jupyter is working in VS Code!\n"
     ]
    }
   ],
   "source": [
    "print(\"Jupyter is working in VS Code!\")"
   ]
  },
  {
   "cell_type": "code",
   "execution_count": 15,
   "id": "f481f510",
   "metadata": {},
   "outputs": [
    {
     "name": "stdout",
     "output_type": "stream",
     "text": [
      "[0]\n",
      "[0, 1]\n",
      "[0, 1, 4]\n",
      "[0, 1, 4, 9]\n",
      "[0, 1, 4, 9, 16]\n"
     ]
    }
   ],
   "source": [
    "L=[]\n",
    "for n in range(5):\n",
    "        L.append(n**2)\n",
    "        print(L)"
   ]
  },
  {
   "cell_type": "code",
   "execution_count": 16,
   "id": "9d7f826c",
   "metadata": {},
   "outputs": [
    {
     "data": {
      "text/plain": [
       "11000.0"
      ]
     },
     "execution_count": 16,
     "metadata": {},
     "output_type": "execute_result"
    }
   ],
   "source": [
    "base_salary=10000\n",
    "bonus_rate=.10\n",
    "total_salary=base_salary*(1+bonus_rate)\n",
    "total_salary"
   ]
  },
  {
   "cell_type": "code",
   "execution_count": 17,
   "id": "4155f92c",
   "metadata": {},
   "outputs": [
    {
     "data": {
      "text/plain": [
       "float"
      ]
     },
     "execution_count": 17,
     "metadata": {},
     "output_type": "execute_result"
    }
   ],
   "source": [
    "type(total_salary)"
   ]
  },
  {
   "cell_type": "code",
   "execution_count": 18,
   "id": "254fb400",
   "metadata": {},
   "outputs": [
    {
     "data": {
      "text/plain": [
       "2491249157008"
      ]
     },
     "execution_count": 18,
     "metadata": {},
     "output_type": "execute_result"
    }
   ],
   "source": [
    "id(total_salary) \n",
    "#each variable in Python has a unique id"
   ]
  },
  {
   "cell_type": "code",
   "execution_count": 19,
   "id": "c51f12f4",
   "metadata": {},
   "outputs": [
    {
     "name": "stdout",
     "output_type": "stream",
     "text": [
      "Hello, my name is okan.\n",
      "I am 22 years old.\n"
     ]
    }
   ],
   "source": [
    "def introduce_yourself(name, age):\n",
    "    print(f\"Hello, my name is {name}.\\nI am {age} years old.\")\n",
    "introduce_yourself(\"okan\", 22)"
   ]
  },
  {
   "cell_type": "code",
   "execution_count": 20,
   "id": "f009d55c",
   "metadata": {},
   "outputs": [
    {
     "name": "stdout",
     "output_type": "stream",
     "text": [
      "Job Title: Data Scientist\n",
      "Location: New York\n",
      "Salary: $120000\n"
     ]
    },
    {
     "data": {
      "text/plain": [
       "'Data Scientist'"
      ]
     },
     "execution_count": 20,
     "metadata": {},
     "output_type": "execute_result"
    }
   ],
   "source": [
    "job_title = \"Data Scientist\"\n",
    "job_location = \"New York\"\n",
    "job_salary = 120000\n",
    "class Job:\n",
    "    def __init__(self, title, location, salary):\n",
    "        self.title = title\n",
    "        self.location = location\n",
    "        self.salary = salary\n",
    "        return print(f\"Job Title: {self.title}\\nLocation: {self.location}\\nSalary: ${self.salary}\")\n",
    "job_1=Job(job_title, job_location, job_salary)\n",
    "job_1.title"
   ]
  },
  {
   "cell_type": "code",
   "execution_count": 21,
   "id": "6994d371",
   "metadata": {},
   "outputs": [
    {
     "name": "stdout",
     "output_type": "stream",
     "text": [
      "Help on class str in module builtins:\n",
      "\n",
      "class str(object)\n",
      " |  str(object='') -> str\n",
      " |  str(bytes_or_buffer[, encoding[, errors]]) -> str\n",
      " |\n",
      " |  Create a new string object from the given object. If encoding or\n",
      " |  errors is specified, then the object must expose a data buffer\n",
      " |  that will be decoded using the given encoding and error handler.\n",
      " |  Otherwise, returns the result of object.__str__() (if defined)\n",
      " |  or repr(object).\n",
      " |  encoding defaults to 'utf-8'.\n",
      " |  errors defaults to 'strict'.\n",
      " |\n",
      " |  Methods defined here:\n",
      " |\n",
      " |  __add__(self, value, /)\n",
      " |      Return self+value.\n",
      " |\n",
      " |  __contains__(self, key, /)\n",
      " |      Return bool(key in self).\n",
      " |\n",
      " |  __eq__(self, value, /)\n",
      " |      Return self==value.\n",
      " |\n",
      " |  __format__(self, format_spec, /)\n",
      " |      Return a formatted version of the string as described by format_spec.\n",
      " |\n",
      " |  __ge__(self, value, /)\n",
      " |      Return self>=value.\n",
      " |\n",
      " |  __getitem__(self, key, /)\n",
      " |      Return self[key].\n",
      " |\n",
      " |  __getnewargs__(self, /)\n",
      " |\n",
      " |  __gt__(self, value, /)\n",
      " |      Return self>value.\n",
      " |\n",
      " |  __hash__(self, /)\n",
      " |      Return hash(self).\n",
      " |\n",
      " |  __iter__(self, /)\n",
      " |      Implement iter(self).\n",
      " |\n",
      " |  __le__(self, value, /)\n",
      " |      Return self<=value.\n",
      " |\n",
      " |  __len__(self, /)\n",
      " |      Return len(self).\n",
      " |\n",
      " |  __lt__(self, value, /)\n",
      " |      Return self<value.\n",
      " |\n",
      " |  __mod__(self, value, /)\n",
      " |      Return self%value.\n",
      " |\n",
      " |  __mul__(self, value, /)\n",
      " |      Return self*value.\n",
      " |\n",
      " |  __ne__(self, value, /)\n",
      " |      Return self!=value.\n",
      " |\n",
      " |  __repr__(self, /)\n",
      " |      Return repr(self).\n",
      " |\n",
      " |  __rmod__(self, value, /)\n",
      " |      Return value%self.\n",
      " |\n",
      " |  __rmul__(self, value, /)\n",
      " |      Return value*self.\n",
      " |\n",
      " |  __sizeof__(self, /)\n",
      " |      Return the size of the string in memory, in bytes.\n",
      " |\n",
      " |  __str__(self, /)\n",
      " |      Return str(self).\n",
      " |\n",
      " |  capitalize(self, /)\n",
      " |      Return a capitalized version of the string.\n",
      " |\n",
      " |      More specifically, make the first character have upper case and the rest lower\n",
      " |      case.\n",
      " |\n",
      " |  casefold(self, /)\n",
      " |      Return a version of the string suitable for caseless comparisons.\n",
      " |\n",
      " |  center(self, width, fillchar=' ', /)\n",
      " |      Return a centered string of length width.\n",
      " |\n",
      " |      Padding is done using the specified fill character (default is a space).\n",
      " |\n",
      " |  count(self, sub[, start[, end]], /)\n",
      " |      Return the number of non-overlapping occurrences of substring sub in string S[start:end].\n",
      " |\n",
      " |      Optional arguments start and end are interpreted as in slice notation.\n",
      " |\n",
      " |  encode(self, /, encoding='utf-8', errors='strict')\n",
      " |      Encode the string using the codec registered for encoding.\n",
      " |\n",
      " |      encoding\n",
      " |        The encoding in which to encode the string.\n",
      " |      errors\n",
      " |        The error handling scheme to use for encoding errors.\n",
      " |        The default is 'strict' meaning that encoding errors raise a\n",
      " |        UnicodeEncodeError.  Other possible values are 'ignore', 'replace' and\n",
      " |        'xmlcharrefreplace' as well as any other name registered with\n",
      " |        codecs.register_error that can handle UnicodeEncodeErrors.\n",
      " |\n",
      " |  endswith(self, suffix[, start[, end]], /)\n",
      " |      Return True if the string ends with the specified suffix, False otherwise.\n",
      " |\n",
      " |      suffix\n",
      " |        A string or a tuple of strings to try.\n",
      " |      start\n",
      " |        Optional start position. Default: start of the string.\n",
      " |      end\n",
      " |        Optional stop position. Default: end of the string.\n",
      " |\n",
      " |  expandtabs(self, /, tabsize=8)\n",
      " |      Return a copy where all tab characters are expanded using spaces.\n",
      " |\n",
      " |      If tabsize is not given, a tab size of 8 characters is assumed.\n",
      " |\n",
      " |  find(self, sub[, start[, end]], /)\n",
      " |      Return the lowest index in S where substring sub is found, such that sub is contained within S[start:end].\n",
      " |\n",
      " |      Optional arguments start and end are interpreted as in slice notation.\n",
      " |      Return -1 on failure.\n",
      " |\n",
      " |  format(self, /, *args, **kwargs)\n",
      " |      Return a formatted version of the string, using substitutions from args and kwargs.\n",
      " |      The substitutions are identified by braces ('{' and '}').\n",
      " |\n",
      " |  format_map(self, mapping, /)\n",
      " |      Return a formatted version of the string, using substitutions from mapping.\n",
      " |      The substitutions are identified by braces ('{' and '}').\n",
      " |\n",
      " |  index(self, sub[, start[, end]], /)\n",
      " |      Return the lowest index in S where substring sub is found, such that sub is contained within S[start:end].\n",
      " |\n",
      " |      Optional arguments start and end are interpreted as in slice notation.\n",
      " |      Raises ValueError when the substring is not found.\n",
      " |\n",
      " |  isalnum(self, /)\n",
      " |      Return True if the string is an alpha-numeric string, False otherwise.\n",
      " |\n",
      " |      A string is alpha-numeric if all characters in the string are alpha-numeric and\n",
      " |      there is at least one character in the string.\n",
      " |\n",
      " |  isalpha(self, /)\n",
      " |      Return True if the string is an alphabetic string, False otherwise.\n",
      " |\n",
      " |      A string is alphabetic if all characters in the string are alphabetic and there\n",
      " |      is at least one character in the string.\n",
      " |\n",
      " |  isascii(self, /)\n",
      " |      Return True if all characters in the string are ASCII, False otherwise.\n",
      " |\n",
      " |      ASCII characters have code points in the range U+0000-U+007F.\n",
      " |      Empty string is ASCII too.\n",
      " |\n",
      " |  isdecimal(self, /)\n",
      " |      Return True if the string is a decimal string, False otherwise.\n",
      " |\n",
      " |      A string is a decimal string if all characters in the string are decimal and\n",
      " |      there is at least one character in the string.\n",
      " |\n",
      " |  isdigit(self, /)\n",
      " |      Return True if the string is a digit string, False otherwise.\n",
      " |\n",
      " |      A string is a digit string if all characters in the string are digits and there\n",
      " |      is at least one character in the string.\n",
      " |\n",
      " |  isidentifier(self, /)\n",
      " |      Return True if the string is a valid Python identifier, False otherwise.\n",
      " |\n",
      " |      Call keyword.iskeyword(s) to test whether string s is a reserved identifier,\n",
      " |      such as \"def\" or \"class\".\n",
      " |\n",
      " |  islower(self, /)\n",
      " |      Return True if the string is a lowercase string, False otherwise.\n",
      " |\n",
      " |      A string is lowercase if all cased characters in the string are lowercase and\n",
      " |      there is at least one cased character in the string.\n",
      " |\n",
      " |  isnumeric(self, /)\n",
      " |      Return True if the string is a numeric string, False otherwise.\n",
      " |\n",
      " |      A string is numeric if all characters in the string are numeric and there is at\n",
      " |      least one character in the string.\n",
      " |\n",
      " |  isprintable(self, /)\n",
      " |      Return True if all characters in the string are printable, False otherwise.\n",
      " |\n",
      " |      A character is printable if repr() may use it in its output.\n",
      " |\n",
      " |  isspace(self, /)\n",
      " |      Return True if the string is a whitespace string, False otherwise.\n",
      " |\n",
      " |      A string is whitespace if all characters in the string are whitespace and there\n",
      " |      is at least one character in the string.\n",
      " |\n",
      " |  istitle(self, /)\n",
      " |      Return True if the string is a title-cased string, False otherwise.\n",
      " |\n",
      " |      In a title-cased string, upper- and title-case characters may only\n",
      " |      follow uncased characters and lowercase characters only cased ones.\n",
      " |\n",
      " |  isupper(self, /)\n",
      " |      Return True if the string is an uppercase string, False otherwise.\n",
      " |\n",
      " |      A string is uppercase if all cased characters in the string are uppercase and\n",
      " |      there is at least one cased character in the string.\n",
      " |\n",
      " |  join(self, iterable, /)\n",
      " |      Concatenate any number of strings.\n",
      " |\n",
      " |      The string whose method is called is inserted in between each given string.\n",
      " |      The result is returned as a new string.\n",
      " |\n",
      " |      Example: '.'.join(['ab', 'pq', 'rs']) -> 'ab.pq.rs'\n",
      " |\n",
      " |  ljust(self, width, fillchar=' ', /)\n",
      " |      Return a left-justified string of length width.\n",
      " |\n",
      " |      Padding is done using the specified fill character (default is a space).\n",
      " |\n",
      " |  lower(self, /)\n",
      " |      Return a copy of the string converted to lowercase.\n",
      " |\n",
      " |  lstrip(self, chars=None, /)\n",
      " |      Return a copy of the string with leading whitespace removed.\n",
      " |\n",
      " |      If chars is given and not None, remove characters in chars instead.\n",
      " |\n",
      " |  partition(self, sep, /)\n",
      " |      Partition the string into three parts using the given separator.\n",
      " |\n",
      " |      This will search for the separator in the string.  If the separator is found,\n",
      " |      returns a 3-tuple containing the part before the separator, the separator\n",
      " |      itself, and the part after it.\n",
      " |\n",
      " |      If the separator is not found, returns a 3-tuple containing the original string\n",
      " |      and two empty strings.\n",
      " |\n",
      " |  removeprefix(self, prefix, /)\n",
      " |      Return a str with the given prefix string removed if present.\n",
      " |\n",
      " |      If the string starts with the prefix string, return string[len(prefix):].\n",
      " |      Otherwise, return a copy of the original string.\n",
      " |\n",
      " |  removesuffix(self, suffix, /)\n",
      " |      Return a str with the given suffix string removed if present.\n",
      " |\n",
      " |      If the string ends with the suffix string and that suffix is not empty,\n",
      " |      return string[:-len(suffix)]. Otherwise, return a copy of the original\n",
      " |      string.\n",
      " |\n",
      " |  replace(self, old, new, /, count=-1)\n",
      " |      Return a copy with all occurrences of substring old replaced by new.\n",
      " |\n",
      " |        count\n",
      " |          Maximum number of occurrences to replace.\n",
      " |          -1 (the default value) means replace all occurrences.\n",
      " |\n",
      " |      If the optional argument count is given, only the first count occurrences are\n",
      " |      replaced.\n",
      " |\n",
      " |  rfind(self, sub[, start[, end]], /)\n",
      " |      Return the highest index in S where substring sub is found, such that sub is contained within S[start:end].\n",
      " |\n",
      " |      Optional arguments start and end are interpreted as in slice notation.\n",
      " |      Return -1 on failure.\n",
      " |\n",
      " |  rindex(self, sub[, start[, end]], /)\n",
      " |      Return the highest index in S where substring sub is found, such that sub is contained within S[start:end].\n",
      " |\n",
      " |      Optional arguments start and end are interpreted as in slice notation.\n",
      " |      Raises ValueError when the substring is not found.\n",
      " |\n",
      " |  rjust(self, width, fillchar=' ', /)\n",
      " |      Return a right-justified string of length width.\n",
      " |\n",
      " |      Padding is done using the specified fill character (default is a space).\n",
      " |\n",
      " |  rpartition(self, sep, /)\n",
      " |      Partition the string into three parts using the given separator.\n",
      " |\n",
      " |      This will search for the separator in the string, starting at the end. If\n",
      " |      the separator is found, returns a 3-tuple containing the part before the\n",
      " |      separator, the separator itself, and the part after it.\n",
      " |\n",
      " |      If the separator is not found, returns a 3-tuple containing two empty strings\n",
      " |      and the original string.\n",
      " |\n",
      " |  rsplit(self, /, sep=None, maxsplit=-1)\n",
      " |      Return a list of the substrings in the string, using sep as the separator string.\n",
      " |\n",
      " |        sep\n",
      " |          The separator used to split the string.\n",
      " |\n",
      " |          When set to None (the default value), will split on any whitespace\n",
      " |          character (including \\n \\r \\t \\f and spaces) and will discard\n",
      " |          empty strings from the result.\n",
      " |        maxsplit\n",
      " |          Maximum number of splits.\n",
      " |          -1 (the default value) means no limit.\n",
      " |\n",
      " |      Splitting starts at the end of the string and works to the front.\n",
      " |\n",
      " |  rstrip(self, chars=None, /)\n",
      " |      Return a copy of the string with trailing whitespace removed.\n",
      " |\n",
      " |      If chars is given and not None, remove characters in chars instead.\n",
      " |\n",
      " |  split(self, /, sep=None, maxsplit=-1)\n",
      " |      Return a list of the substrings in the string, using sep as the separator string.\n",
      " |\n",
      " |        sep\n",
      " |          The separator used to split the string.\n",
      " |\n",
      " |          When set to None (the default value), will split on any whitespace\n",
      " |          character (including \\n \\r \\t \\f and spaces) and will discard\n",
      " |          empty strings from the result.\n",
      " |        maxsplit\n",
      " |          Maximum number of splits.\n",
      " |          -1 (the default value) means no limit.\n",
      " |\n",
      " |      Splitting starts at the front of the string and works to the end.\n",
      " |\n",
      " |      Note, str.split() is mainly useful for data that has been intentionally\n",
      " |      delimited.  With natural text that includes punctuation, consider using\n",
      " |      the regular expression module.\n",
      " |\n",
      " |  splitlines(self, /, keepends=False)\n",
      " |      Return a list of the lines in the string, breaking at line boundaries.\n",
      " |\n",
      " |      Line breaks are not included in the resulting list unless keepends is given and\n",
      " |      true.\n",
      " |\n",
      " |  startswith(self, prefix[, start[, end]], /)\n",
      " |      Return True if the string starts with the specified prefix, False otherwise.\n",
      " |\n",
      " |      prefix\n",
      " |        A string or a tuple of strings to try.\n",
      " |      start\n",
      " |        Optional start position. Default: start of the string.\n",
      " |      end\n",
      " |        Optional stop position. Default: end of the string.\n",
      " |\n",
      " |  strip(self, chars=None, /)\n",
      " |      Return a copy of the string with leading and trailing whitespace removed.\n",
      " |\n",
      " |      If chars is given and not None, remove characters in chars instead.\n",
      " |\n",
      " |  swapcase(self, /)\n",
      " |      Convert uppercase characters to lowercase and lowercase characters to uppercase.\n",
      " |\n",
      " |  title(self, /)\n",
      " |      Return a version of the string where each word is titlecased.\n",
      " |\n",
      " |      More specifically, words start with uppercased characters and all remaining\n",
      " |      cased characters have lower case.\n",
      " |\n",
      " |  translate(self, table, /)\n",
      " |      Replace each character in the string using the given translation table.\n",
      " |\n",
      " |        table\n",
      " |          Translation table, which must be a mapping of Unicode ordinals to\n",
      " |          Unicode ordinals, strings, or None.\n",
      " |\n",
      " |      The table must implement lookup/indexing via __getitem__, for instance a\n",
      " |      dictionary or list.  If this operation raises LookupError, the character is\n",
      " |      left untouched.  Characters mapped to None are deleted.\n",
      " |\n",
      " |  upper(self, /)\n",
      " |      Return a copy of the string converted to uppercase.\n",
      " |\n",
      " |  zfill(self, width, /)\n",
      " |      Pad a numeric string with zeros on the left, to fill a field of the given width.\n",
      " |\n",
      " |      The string is never truncated.\n",
      " |\n",
      " |  ----------------------------------------------------------------------\n",
      " |  Static methods defined here:\n",
      " |\n",
      " |  __new__(*args, **kwargs)\n",
      " |      Create and return a new object.  See help(type) for accurate signature.\n",
      " |\n",
      " |  maketrans(x, y=<unrepresentable>, z=<unrepresentable>, /)\n",
      " |      Return a translation table usable for str.translate().\n",
      " |\n",
      " |      If there is only one argument, it must be a dictionary mapping Unicode\n",
      " |      ordinals (integers) or characters to Unicode ordinals, strings or None.\n",
      " |      Character keys will be then converted to ordinals.\n",
      " |      If there are two arguments, they must be strings of equal length, and\n",
      " |      in the resulting dictionary, each character in x will be mapped to the\n",
      " |      character at the same position in y. If there is a third argument, it\n",
      " |      must be a string, whose characters will be mapped to None in the result.\n",
      "\n"
     ]
    }
   ],
   "source": [
    "help(str)"
   ]
  },
  {
   "cell_type": "code",
   "execution_count": 22,
   "id": "dd296074",
   "metadata": {},
   "outputs": [
    {
     "data": {
      "text/plain": [
       "101.0"
      ]
     },
     "execution_count": 22,
     "metadata": {},
     "output_type": "execute_result"
    }
   ],
   "source": [
    "# type casting \n",
    "job_id = 101\n",
    "float(job_id)\n"
   ]
  },
  {
   "cell_type": "code",
   "execution_count": 23,
   "id": "754d374c",
   "metadata": {},
   "outputs": [
    {
     "name": "stdout",
     "output_type": "stream",
     "text": [
      "FRESH\n",
      "fresh\n",
      "fresh mind\n",
      "cresh\n",
      "fresh\n",
      "['fr', 'sh']\n"
     ]
    }
   ],
   "source": [
    "feel='fresh'\n",
    "print(feel.upper())\n",
    "print(feel.lower())\n",
    "print(feel.__add__(' mind'))\n",
    "print(feel.replace('f', 'c'))\n",
    "print(feel) # original string is not changed\n",
    "print(feel.split(sep='e'))\n"
   ]
  },
  {
   "cell_type": "code",
   "execution_count": 24,
   "id": "32cf8d38",
   "metadata": {},
   "outputs": [
    {
     "data": {
      "text/plain": [
       "'0,1,2,3,4,5,6,7,8,9'"
      ]
     },
     "execution_count": 24,
     "metadata": {},
     "output_type": "execute_result"
    }
   ],
   "source": [
    "baby_age='0123456789'\n",
    "','.join(baby_age)"
   ]
  },
  {
   "cell_type": "code",
   "execution_count": 25,
   "id": "b100961e",
   "metadata": {},
   "outputs": [
    {
     "name": "stdout",
     "output_type": "stream",
     "text": [
      "2\n",
      "7\n",
      "False\n",
      "c is greater than 5\n"
     ]
    }
   ],
   "source": [
    "print(5//2)\n",
    "c=5\n",
    "c += 2\n",
    "print(c)   \n",
    "print(1 == 2 )\n",
    "if c > 5:\n",
    "    print(\"c is greater than 5\")\n",
    "elif c == 5:\n",
    "    print(\"c is equal to 5\")\n",
    "else:\n",
    "    print(\"c is less than 5\")\n"
   ]
  },
  {
   "cell_type": "code",
   "execution_count": 26,
   "id": "39637d24",
   "metadata": {},
   "outputs": [
    {
     "name": "stdout",
     "output_type": "stream",
     "text": [
      "['english', 'trader', 'developer']\n",
      "['english', 'trader', 'developer', 'data scientist']\n",
      "trader\n",
      "['english', 'trader', 'data scientist']\n"
     ]
    },
    {
     "data": {
      "text/plain": [
       "['english', 'trader', 'data scientist', 'developer']"
      ]
     },
     "execution_count": 26,
     "metadata": {},
     "output_type": "execute_result"
    }
   ],
   "source": [
    "skills=['english','trader','developer']\n",
    "print(skills)\n",
    "skills.append('data scientist')\n",
    "print(skills)\n",
    "print(skills[1])\n",
    "skills.pop(2)\n",
    "print(skills)\n",
    "skills.insert(3, 'developer')\n",
    "skills\n",
    "skills[0:1]  #slicing\n",
    "skills"
   ]
  },
  {
   "cell_type": "code",
   "execution_count": 27,
   "id": "06d7270d",
   "metadata": {},
   "outputs": [
    {
     "name": "stdout",
     "output_type": "stream",
     "text": [
      "english\n",
      "{'language': 'english', 'skill': 'DataScientist'}\n"
     ]
    }
   ],
   "source": [
    "info={'language':'english', 'skill':'SoftwareDeveloper'}\n",
    "info\n",
    "print(info['language'])\n",
    "info.update({'skill':'DataScientist'})\n",
    "print(info)"
   ]
  },
  {
   "cell_type": "code",
   "execution_count": 28,
   "id": "c4331492",
   "metadata": {},
   "outputs": [
    {
     "name": "stdout",
     "output_type": "stream",
     "text": [
      "{'developer', 'data analyst', 'cooker', 'data scientist'}\n",
      "{'developer', 'data engineer', 'data analyst', 'data scientist', 'cooker'}\n",
      "{'data engineer', 'data analyst', 'data scientist', 'cooker'}\n"
     ]
    }
   ],
   "source": [
    "set={'cooker','developer','data scientist','data analyst'}\n",
    "print(set)\n",
    "set.add('data engineer')\n",
    "print(set)\n",
    "set.remove('developer')\n",
    "print(set)"
   ]
  },
  {
   "cell_type": "code",
   "execution_count": 29,
   "id": "a0356aab",
   "metadata": {},
   "outputs": [
    {
     "name": "stdout",
     "output_type": "stream",
     "text": [
      "('okan', 'naci')\n"
     ]
    }
   ],
   "source": [
    "# Tuples are immutable\n",
    "introduce_yourself=('okan','naci')\n",
    "print(introduce_yourself)\n",
    " "
   ]
  },
  {
   "cell_type": "code",
   "execution_count": 30,
   "id": "8f2a5bea",
   "metadata": {},
   "outputs": [
    {
     "data": {
      "text/plain": [
       "(2, 3, 4)"
      ]
     },
     "execution_count": 30,
     "metadata": {},
     "output_type": "execute_result"
    }
   ],
   "source": [
    "tuple(range(2,5))"
   ]
  },
  {
   "cell_type": "code",
   "execution_count": 31,
   "id": "cd4e6e16",
   "metadata": {},
   "outputs": [
    {
     "name": "stdout",
     "output_type": "stream",
     "text": [
      "1\n",
      "1\n",
      "0\n",
      "False\n"
     ]
    }
   ],
   "source": [
    "print(1 and 1)\n",
    "print(1 or 0)\n",
    "print(1 and 0)\n",
    "print(not 1)"
   ]
  },
  {
   "cell_type": "code",
   "execution_count": 32,
   "id": "83540851",
   "metadata": {},
   "outputs": [
    {
     "name": "stdout",
     "output_type": "stream",
     "text": [
      "0\n",
      "1\n",
      "2\n",
      "3\n",
      "4\n",
      "5\n",
      "6\n",
      "{'alice': 25, 'bob': 30, 'charlie': 35}\n",
      "alice is 25 years old\n",
      "bob is 30 years old\n",
      "charlie is 35 years old\n"
     ]
    }
   ],
   "source": [
    "nums=[0,1,2,3,4,5,6]\n",
    "for i in nums:\n",
    "    print(i)\n",
    "dataAge={\n",
    "    'alice': 25,\n",
    "    'bob': 30,\n",
    "    'charlie': 35\n",
    "}\n",
    "print(dataAge)\n",
    "\n",
    "for name, age in dataAge.items():\n",
    "    print(f\"{name} is {age} years old\")"
   ]
  },
  {
   "cell_type": "code",
   "execution_count": 33,
   "id": "0c792218",
   "metadata": {},
   "outputs": [
    {
     "name": "stdout",
     "output_type": "stream",
     "text": [
      "[4, 9, 16, 25, 16, 36]\n"
     ]
    }
   ],
   "source": [
    "#list comprehension\n",
    "ages=[2,3,4,5,4,6]\n",
    "squared = [x**2 for x in ages ]\n",
    "print(squared)\n"
   ]
  },
  {
   "cell_type": "code",
   "execution_count": 34,
   "id": "df569a80",
   "metadata": {},
   "outputs": [
    {
     "name": "stdout",
     "output_type": "stream",
     "text": [
      "Data Analyst\n",
      "['Python', 'SQL', 'Excel']\n",
      "Data Scientist\n",
      "['Python', 'R', 'Machine Learning', 'Deep Learning']\n",
      "Machine Learning Engineer\n",
      "['Python', 'TensorFlow', 'PyTorch', 'Scikit-Learn']\n",
      "Data Engineer\n",
      "['Python', 'Apache Spark', 'Hadoop', 'SQL']\n",
      "Business Intelligence Analyst\n",
      "['Python', 'SQL', 'Tableau', 'Power BI', 'Excel']\n",
      "Quantitative Analyst\n",
      "['R', 'Python', 'MATLAB', 'Statistics']\n",
      "Operations Analyst\n",
      "['Python', 'SQL', 'Data Visualization', 'Process Improvement']\n",
      "Database Administrator\n",
      "['SQL', 'Oracle', 'MySQL', 'Database Management']\n",
      "AI Engineer\n",
      "['Python', 'TensorFlow', 'PyTorch', 'Computer Vision']\n",
      "Statistician\n",
      "['R', 'SAS', 'Python', 'Statistical Modeling']\n"
     ]
    }
   ],
   "source": [
    "job_roles = [\n",
    "    {'role': 'Data Analyst', 'skills': ['Python', 'SQL', 'Excel']},\n",
    "    {'role': 'Data Scientist', 'skills': ['Python', 'R', 'Machine Learning', 'Deep Learning']},\n",
    "    {'role': 'Machine Learning Engineer', 'skills': ['Python', 'TensorFlow', 'PyTorch', 'Scikit-Learn']},\n",
    "    {'role': 'Data Engineer', 'skills': ['Python', 'Apache Spark', 'Hadoop', 'SQL']},\n",
    "    {'role': 'Business Intelligence Analyst', 'skills': ['Python', 'SQL', 'Tableau', 'Power BI', 'Excel']},\n",
    "    {'role': 'Quantitative Analyst', 'skills': ['R', 'Python', 'MATLAB', 'Statistics']},\n",
    "    {'role': 'Operations Analyst', 'skills': ['Python', 'SQL', 'Data Visualization', 'Process Improvement']},\n",
    "    {'role': 'Database Administrator', 'skills': ['SQL', 'Oracle', 'MySQL', 'Database Management']},\n",
    "    {'role': 'AI Engineer', 'skills': ['Python', 'TensorFlow', 'PyTorch', 'Computer Vision']},\n",
    "    {'role': 'Statistician', 'skills': ['R', 'SAS', 'Python', 'Statistical Modeling']}\n",
    "]\n",
    "for job in job_roles:  \n",
    "    print(job['role']) \n",
    "    print(job['skills'])\n",
    "\n"
   ]
  },
  {
   "cell_type": "code",
   "execution_count": 35,
   "id": "73776dc4",
   "metadata": {},
   "outputs": [
    {
     "data": {
      "text/plain": [
       "'Your BMI is 22.86 (Normal weight).'"
      ]
     },
     "execution_count": 35,
     "metadata": {},
     "output_type": "execute_result"
    }
   ],
   "source": [
    "def calculate_bmi(weight_kg: float, height_m: float) -> str:\n",
    "    if height_m <= 0:\n",
    "        return \"Error: Height must be greater than zero.\"\n",
    "    if weight_kg <= 0:\n",
    "        return \"Error: Weight must be greater than zero.\"\n",
    "\n",
    "    bmi = weight_kg / (height_m ** 2)\n",
    "    \n",
    "    if bmi < 18.5:\n",
    "        category = \"Underweight\"\n",
    "    elif 18.5 <= bmi < 24.9:\n",
    "        category = \"Normal weight\"\n",
    "    elif 25 <= bmi < 29.9:\n",
    "        category = \"Overweight\"\n",
    "    else:\n",
    "        category = \"Obesity\"\n",
    "    \n",
    "    return f\"Your BMI is {bmi:.2f} ({category}).\"\n",
    "\n",
    "calculate_bmi(70, 1.75)"
   ]
  },
  {
   "cell_type": "code",
   "execution_count": 36,
   "id": "a4833100",
   "metadata": {},
   "outputs": [
    {
     "name": "stdout",
     "output_type": "stream",
     "text": [
      "1035\n"
     ]
    }
   ],
   "source": [
    "a=23\n",
    "b=45\n",
    "result=lambda a,b:a*b\n",
    "print(result(a,b))\n"
   ]
  },
  {
   "cell_type": "code",
   "execution_count": 37,
   "id": "5b1a584b",
   "metadata": {},
   "outputs": [
    {
     "name": "stdout",
     "output_type": "stream",
     "text": [
      "I am Okan Naci, a number module.\n"
     ]
    }
   ],
   "source": [
    "import importlib\n",
    "import myNumModule as m  # Import your module with an alias\n",
    "\n",
    "# Reload module in case you edited it after the first import\n",
    "importlib.reload(m)\n",
    "print(m.who_am_i(\"Okan\", \"Naci\"))\n"
   ]
  },
  {
   "cell_type": "code",
   "execution_count": 38,
   "id": "ce004589",
   "metadata": {},
   "outputs": [
    {
     "data": {
      "text/plain": [
       "46.57142857142857"
      ]
     },
     "execution_count": 38,
     "metadata": {},
     "output_type": "execute_result"
    }
   ],
   "source": [
    "import statistics as st \n",
    "ages=[23,45,67,89,12,34,56]\n",
    "st.mean(ages)"
   ]
  },
  {
   "cell_type": "code",
   "execution_count": 39,
   "id": "b339f555",
   "metadata": {},
   "outputs": [],
   "source": [
    "#clean the data \n",
    "data_science_jobs = [\n",
    "    {'job_title': 'Data Scientist', 'job_skills': \"['Python', 'SQL', 'Machine Learning']\", 'job_date': '2023-05-12'},\n",
    "    {'job_title': 'Machine Learning Engineer', 'job_skills': \"['Python', 'TensorFlow', 'Deep Learning']\", 'job_date': '2023-05-15'},\n",
    "    {'job_title': 'Data Analyst', 'job_skills': \"['SQL', 'R', 'Tableau']\", 'job_date': '2023-05-10'},\n",
    "    {'job_title': 'Business Intelligence Developer', 'job_skills': \"['SQL', 'PowerBI', 'Data Warehousing']\", 'job_date': '2023-05-08'},\n",
    "    {'job_title': 'Data Engineer', 'job_skills': \"['Python', 'Spark', 'Hadoop']\", 'job_date': '2023-05-18'},\n",
    "    {'job_title': 'AI Specialist', 'job_skills': \"['Python', 'PyTorch', 'AI Ethics']\", 'job_date': '2023-05-20'}\n",
    "]"
   ]
  },
  {
   "cell_type": "code",
   "execution_count": 40,
   "id": "16a21423",
   "metadata": {},
   "outputs": [
    {
     "data": {
      "text/plain": [
       "datetime.datetime(2025, 9, 6, 11, 32, 39, 171102)"
      ]
     },
     "execution_count": 40,
     "metadata": {},
     "output_type": "execute_result"
    }
   ],
   "source": [
    "from datetime import datetime\n",
    "datetime.now()"
   ]
  },
  {
   "cell_type": "code",
   "execution_count": 41,
   "id": "51a74402",
   "metadata": {},
   "outputs": [
    {
     "name": "stdout",
     "output_type": "stream",
     "text": [
      "2023-05-12 00:00:00\n"
     ]
    }
   ],
   "source": [
    "date=data_science_jobs[0]['job_date']\n",
    "print(datetime.strptime(date, '%Y-%m-%d'))"
   ]
  },
  {
   "cell_type": "code",
   "execution_count": 42,
   "id": "ebb42b40",
   "metadata": {},
   "outputs": [],
   "source": [
    "import ast \n",
    "for job in data_science_jobs:\n",
    "    job['job_date']=datetime.strptime(job['job_date'], '%Y-%m-%d')\n",
    "    job['job_skills']=ast.literal_eval(job['job_skills'])"
   ]
  },
  {
   "cell_type": "code",
   "execution_count": 43,
   "id": "0054a51e",
   "metadata": {},
   "outputs": [
    {
     "data": {
      "text/plain": [
       "[{'job_title': 'Data Scientist',\n",
       "  'job_skills': ['Python', 'SQL', 'Machine Learning'],\n",
       "  'job_date': datetime.datetime(2023, 5, 12, 0, 0)},\n",
       " {'job_title': 'Machine Learning Engineer',\n",
       "  'job_skills': ['Python', 'TensorFlow', 'Deep Learning'],\n",
       "  'job_date': datetime.datetime(2023, 5, 15, 0, 0)},\n",
       " {'job_title': 'Data Analyst',\n",
       "  'job_skills': ['SQL', 'R', 'Tableau'],\n",
       "  'job_date': datetime.datetime(2023, 5, 10, 0, 0)},\n",
       " {'job_title': 'Business Intelligence Developer',\n",
       "  'job_skills': ['SQL', 'PowerBI', 'Data Warehousing'],\n",
       "  'job_date': datetime.datetime(2023, 5, 8, 0, 0)},\n",
       " {'job_title': 'Data Engineer',\n",
       "  'job_skills': ['Python', 'Spark', 'Hadoop'],\n",
       "  'job_date': datetime.datetime(2023, 5, 18, 0, 0)},\n",
       " {'job_title': 'AI Specialist',\n",
       "  'job_skills': ['Python', 'PyTorch', 'AI Ethics'],\n",
       "  'job_date': datetime.datetime(2023, 5, 20, 0, 0)}]"
      ]
     },
     "execution_count": 43,
     "metadata": {},
     "output_type": "execute_result"
    }
   ],
   "source": [
    "data_science_jobs"
   ]
  },
  {
   "cell_type": "code",
   "execution_count": 53,
   "id": "12a16125",
   "metadata": {},
   "outputs": [
    {
     "name": "stdout",
     "output_type": "stream",
     "text": [
      "2591213\n"
     ]
    }
   ],
   "source": [
    "import os\n",
    "size = os.path.getsize(\"ai_job_dataset.csv\")\n",
    "print(size)"
   ]
  },
  {
   "cell_type": "code",
   "execution_count": 56,
   "id": "03f24147",
   "metadata": {},
   "outputs": [
    {
     "data": {
      "text/plain": [
       "0         Bachelor\n",
       "1           Master\n",
       "2        Associate\n",
       "3              PhD\n",
       "4           Master\n",
       "           ...    \n",
       "14995     Bachelor\n",
       "14996       Master\n",
       "14997    Associate\n",
       "14998          PhD\n",
       "14999          PhD\n",
       "Name: education_required, Length: 15000, dtype: object"
      ]
     },
     "execution_count": 56,
     "metadata": {},
     "output_type": "execute_result"
    }
   ],
   "source": [
    "import pandas as pd \n",
    "contents = pd.read_csv(\"ai_job_dataset.csv\")\n",
    "contents['education_required']"
   ]
  },
  {
   "cell_type": "code",
   "execution_count": 2,
   "id": "db325f94",
   "metadata": {},
   "outputs": [
    {
     "data": {
      "text/plain": [
       "array([2, 4, 6, 8])"
      ]
     },
     "execution_count": 2,
     "metadata": {},
     "output_type": "execute_result"
    }
   ],
   "source": [
    "import numpy as np\n",
    "arr = np.array([1,2,3,4])\n",
    "multipled=arr * 2\n",
    "multipled\n"
   ]
  },
  {
   "cell_type": "code",
   "execution_count": 3,
   "id": "ba9d3549",
   "metadata": {},
   "outputs": [
    {
     "data": {
      "text/plain": [
       "dtype('int16')"
      ]
     },
     "execution_count": 3,
     "metadata": {},
     "output_type": "execute_result"
    }
   ],
   "source": [
    "arr = np.array([1, 2, 3], dtype=np.int16)  # Uses 16-bit integers\n",
    "arr.dtype"
   ]
  },
  {
   "cell_type": "code",
   "execution_count": 16,
   "id": "2622999a",
   "metadata": {},
   "outputs": [],
   "source": [
    "class BaseSalary:\n",
    "    def __init__(self, base_salary,symbol='$'):\n",
    "        self.base_salary = f\"{symbol} {base_salary}\"\n",
    "        pass"
   ]
  },
  {
   "cell_type": "code",
   "execution_count": 17,
   "id": "d8a0106d",
   "metadata": {},
   "outputs": [
    {
     "data": {
      "text/plain": [
       "'$ 10000'"
      ]
     },
     "execution_count": 17,
     "metadata": {},
     "output_type": "execute_result"
    }
   ],
   "source": [
    "jacks=BaseSalary(10000)\n",
    "jacks.base_salary   "
   ]
  },
  {
   "cell_type": "code",
   "execution_count": 20,
   "id": "e2c46504",
   "metadata": {},
   "outputs": [],
   "source": [
    "import random as rm \n",
    "salary_list = [rm.randint(10000,50000) for _ in range(5)]"
   ]
  },
  {
   "cell_type": "code",
   "execution_count": 2,
   "id": "d1464747",
   "metadata": {},
   "outputs": [],
   "source": [
    "import numpy as np\n"
   ]
  },
  {
   "cell_type": "code",
   "execution_count": 3,
   "id": "42f4f6ab",
   "metadata": {},
   "outputs": [
    {
     "data": {
      "text/plain": [
       "array([[1., 1., 1., 1.],\n",
       "       [1., 1., 1., 1.],\n",
       "       [1., 1., 1., 1.]])"
      ]
     },
     "execution_count": 3,
     "metadata": {},
     "output_type": "execute_result"
    }
   ],
   "source": [
    "A=np.ones((3,4))\n",
    "A"
   ]
  },
  {
   "cell_type": "code",
   "execution_count": 4,
   "id": "e4a3ac3c",
   "metadata": {},
   "outputs": [],
   "source": [
    "v = np.array([1,2,3,4])"
   ]
  },
  {
   "cell_type": "code",
   "execution_count": 6,
   "id": "07fb7df0",
   "metadata": {},
   "outputs": [
    {
     "data": {
      "text/plain": [
       "array([[2., 3., 4., 5.],\n",
       "       [2., 3., 4., 5.],\n",
       "       [2., 3., 4., 5.]])"
      ]
     },
     "execution_count": 6,
     "metadata": {},
     "output_type": "execute_result"
    }
   ],
   "source": [
    "B=A+v\n",
    "B"
   ]
  },
  {
   "cell_type": "code",
   "execution_count": 13,
   "id": "f664e908",
   "metadata": {},
   "outputs": [
    {
     "data": {
      "text/plain": [
       "(2, 3)"
      ]
     },
     "execution_count": 13,
     "metadata": {},
     "output_type": "execute_result"
    }
   ],
   "source": [
    "arr = np.array([[1,2,3],[4,5,6]])\n",
    "size=arr.shape\n",
    "size"
   ]
  },
  {
   "cell_type": "code",
   "execution_count": 17,
   "id": "0f14f68a",
   "metadata": {},
   "outputs": [
    {
     "name": "stdout",
     "output_type": "stream",
     "text": [
      "[5 7 9]\n",
      "[ 6 15]\n"
     ]
    }
   ],
   "source": [
    "print(arr.sum(axis=0))  #sum of each column\n",
    "print(arr.sum(axis=1))"
   ]
  },
  {
   "cell_type": "code",
   "execution_count": 30,
   "id": "38e40737",
   "metadata": {},
   "outputs": [
    {
     "data": {
      "text/plain": [
       "array([[1, 2, 3],\n",
       "       [4, 5, 6]])"
      ]
     },
     "execution_count": 30,
     "metadata": {},
     "output_type": "execute_result"
    }
   ],
   "source": [
    "arr = np.array([1,2,3,4,5,6])\n",
    "arr = arr.reshape(2,3)\n",
    "arr\n",
    "arr.ravel()\n",
    "arr"
   ]
  },
  {
   "cell_type": "code",
   "execution_count": 32,
   "id": "540f243c",
   "metadata": {},
   "outputs": [
    {
     "data": {
      "text/plain": [
       "array([[1, 2, 3],\n",
       "       [4, 5, 6]])"
      ]
     },
     "execution_count": 32,
     "metadata": {},
     "output_type": "execute_result"
    }
   ],
   "source": [
    "arr.T\n",
    "arr"
   ]
  },
  {
   "cell_type": "code",
   "execution_count": 31,
   "id": "4ddcfd99",
   "metadata": {},
   "outputs": [
    {
     "data": {
      "text/plain": [
       "array([4, 5, 6])"
      ]
     },
     "execution_count": 31,
     "metadata": {},
     "output_type": "execute_result"
    }
   ],
   "source": [
    "arr[-1]"
   ]
  },
  {
   "cell_type": "code",
   "execution_count": 33,
   "id": "378891a7",
   "metadata": {},
   "outputs": [
    {
     "data": {
      "text/plain": [
       "array([2, 3, 4, 5, 6])"
      ]
     },
     "execution_count": 33,
     "metadata": {},
     "output_type": "execute_result"
    }
   ],
   "source": [
    "arr[arr>1]"
   ]
  },
  {
   "cell_type": "code",
   "execution_count": 35,
   "id": "2e48c5ca",
   "metadata": {},
   "outputs": [
    {
     "data": {
      "text/plain": [
       "array([1, 4])"
      ]
     },
     "execution_count": 35,
     "metadata": {},
     "output_type": "execute_result"
    }
   ],
   "source": [
    "arr[:,0]"
   ]
  },
  {
   "cell_type": "code",
   "execution_count": 38,
   "id": "bcca2ace",
   "metadata": {},
   "outputs": [
    {
     "name": "stdout",
     "output_type": "stream",
     "text": [
      "[0 1 2 3 4 5 6 7 8 9]\n",
      "[ 0  3  6  9 12 15 18 21 24 27]\n"
     ]
    }
   ],
   "source": [
    "np_array=np.arange(10)\n",
    "print(np_array)\n",
    "print(np_array*3)"
   ]
  },
  {
   "cell_type": "code",
   "execution_count": 40,
   "id": "5c780371",
   "metadata": {},
   "outputs": [
    {
     "name": "stdout",
     "output_type": "stream",
     "text": [
      "A @ B =\n",
      " [[19 22]\n",
      " [43 50]]\n",
      "inverse:\n",
      " [[-2.   1. ]\n",
      " [ 1.5 -0.5]]\n",
      "eigenvalues: [-0.37228132  5.37228132]\n"
     ]
    }
   ],
   "source": [
    "A = np.array([[1,2],[3,4]])\n",
    "B = np.array([[5,6],[7,8]])\n",
    "\n",
    "print(\"A @ B =\\n\", A @ B)          # matrix multiplication\n",
    "print(\"inverse:\\n\", np.linalg.inv(A))\n",
    "print(\"eigenvalues:\", np.linalg.eigvals(A))\n"
   ]
  },
  {
   "cell_type": "code",
   "execution_count": 43,
   "id": "7c38a840",
   "metadata": {},
   "outputs": [
    {
     "name": "stdout",
     "output_type": "stream",
     "text": [
      "[[0.77395605 0.43887844 0.85859792]\n",
      " [0.69736803 0.09417735 0.97562235]]\n",
      "[7 7 7 7 5]\n",
      "[-0.85304393  0.87939797  0.77779194  0.0660307   1.12724121]\n"
     ]
    }
   ],
   "source": [
    "rng = np.random.default_rng(42)\n",
    "print(rng.random((2,3)))          # uniform [0,1)\n",
    "print(rng.integers(0, 10, size=5)) # random integers\n",
    "print(rng.normal(0, 1, size=5))    # Gaussian\n"
   ]
  },
  {
   "cell_type": "code",
   "execution_count": 45,
   "id": "9407dd59",
   "metadata": {},
   "outputs": [
    {
     "name": "stdout",
     "output_type": "stream",
     "text": [
      "Mean:\n",
      " [4. 5. 6.]\n",
      "Standard Deviation:\n",
      " [2.44948974 2.44948974 2.44948974]\n",
      "[[-1.22474487 -1.22474487 -1.22474487]\n",
      " [ 0.          0.          0.        ]\n",
      " [ 1.22474487  1.22474487  1.22474487]]\n"
     ]
    }
   ],
   "source": [
    "X = np.array([[1,2,3],\n",
    "              [4,5,6],\n",
    "              [7,8,9]])\n",
    "\n",
    "mean = X.mean(axis=0)\n",
    "std = X.std(axis=0)\n",
    "X_norm = (X - mean) / std\n",
    "print(\"Mean:\\n\", mean)\n",
    "print(\"Standard Deviation:\\n\", std)\n",
    "print(X_norm)\n"
   ]
  },
  {
   "cell_type": "code",
   "execution_count": null,
   "id": "a8723bd0",
   "metadata": {},
   "outputs": [],
   "source": []
  },
  {
   "cell_type": "code",
   "execution_count": null,
   "id": "2b08d7a9",
   "metadata": {},
   "outputs": [],
   "source": []
  }
 ],
 "metadata": {
  "kernelspec": {
   "display_name": ".venv (3.13.7)",
   "language": "python",
   "name": "python3"
  },
  "language_info": {
   "codemirror_mode": {
    "name": "ipython",
    "version": 3
   },
   "file_extension": ".py",
   "mimetype": "text/x-python",
   "name": "python",
   "nbconvert_exporter": "python",
   "pygments_lexer": "ipython3",
   "version": "3.13.7"
  }
 },
 "nbformat": 4,
 "nbformat_minor": 5
}
